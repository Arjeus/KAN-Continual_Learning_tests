{
 "cells": [
  {
   "cell_type": "code",
   "outputs": [],
   "source": [
    "! git clone https://github.com/MrPio/KAN_tests\n",
    "! mv KAN_tests/* ./\n",
    "! rm -r KAN_tests/"
   ],
   "metadata": {
    "collapsed": false
   },
   "id": "a5f4e2663f20118b"
  },
  {
   "cell_type": "code",
   "outputs": [
    {
     "name": "stdout",
     "output_type": "stream",
     "text": [
      "None\n"
     ]
    }
   ],
   "source": [
    "from matplotlib import pyplot as plt\n",
    "import torch\n",
    "from torch import optim, nn\n",
    "from torch.utils.data import DataLoader\n",
    "from torchvision import datasets\n",
    "from torchvision.transforms import transforms\n",
    "from tqdm import tqdm\n",
    "\n",
    "from efficient_kan.kan import KAN\n",
    "\n",
    "device = torch.device(\"cuda\" if torch.cuda.is_available() else \"cpu\")\n",
    "device"
   ],
   "metadata": {
    "collapsed": false,
    "ExecuteTime": {
     "end_time": "2024-06-07T20:06:43.584351Z",
     "start_time": "2024-06-07T20:06:43.569816Z"
    }
   },
   "id": "ee1ccf2d86652d0d",
   "execution_count": 6
  },
  {
   "cell_type": "markdown",
   "source": [
    "# KAN\n",
    "In this notebook we demonstrate how the catastrophic forgetting lightly affect KANs.\n",
    "We train an KAN on a sorted MNIST."
   ],
   "metadata": {
    "collapsed": false
   },
   "id": "550fd07e1cdee323"
  },
  {
   "cell_type": "code",
   "outputs": [],
   "source": [
    "transform = transforms.Compose([transforms.ToTensor(), transforms.Normalize((0.5,), (0.5,))])\n",
    "# Train set. Here we sort the MNIST by digits and disable data shuffling\n",
    "train_dataset = datasets.MNIST(root='./data', train=True, download=True, transform=transform)\n",
    "sorted_indices = sorted(range(len(train_dataset)//1), key=lambda idx: train_dataset.targets[idx])\n",
    "# sorted_indices = range(len(train_dataset)//10)\n",
    "train_dataset = torch.utils.data.Subset(train_dataset, sorted_indices)\n",
    "train_loader = DataLoader(train_dataset, batch_size=64, shuffle=False)\n",
    "# Test set\n",
    "test_dataset = datasets.MNIST(root='./data', train=False, download=True, transform=transform)\n",
    "test_loader = DataLoader(test_dataset, batch_size=64, shuffle=False)"
   ],
   "metadata": {
    "collapsed": false,
    "ExecuteTime": {
     "end_time": "2024-06-07T19:59:55.442466Z",
     "start_time": "2024-06-07T19:59:53.539890Z"
    }
   },
   "id": "16a1dc96dd581469",
   "execution_count": 110
  },
  {
   "cell_type": "code",
   "outputs": [],
   "source": [
    "import time\n",
    "# Training the model\n",
    "def train(model, checkpoint, epochs=5):\n",
    "    fig, ax = plt.subplots()\n",
    "    ax2 = ax.twinx()\n",
    "    line, = ax.plot([], [], 'bo-',label='accuracy')\n",
    "    line2, = ax2.plot([], [], 'r-', label='lr')\n",
    "    x_data, acc_data, lr_data = [], [],[]\n",
    "    criterion = nn.CrossEntropyLoss()\n",
    "    # optimizer = optim.Adam(model.parameters(), lr=0.001)\n",
    "    optimizer = optim.Adam(model.parameters(), lr=1e-3)\n",
    "    # scheduler = optim.lr_scheduler.ExponentialLR(optimizer, gamma=0.8)\n",
    "    for epoch in range(epochs):\n",
    "        model.train()\n",
    "        with tqdm(train_loader) as pbar:\n",
    "            for i, (images, labels) in enumerate(pbar):\n",
    "                images = images.view(-1, 28 * 28).to(device)\n",
    "                optimizer.zero_grad()\n",
    "                output = model(images)\n",
    "                loss = criterion(output, labels.to(device))\n",
    "                loss.backward()\n",
    "                optimizer.step()\n",
    "                accuracy = (output.argmax(dim=1) == labels.to(device)).float().mean()\n",
    "                pbar.set_postfix(loss=loss.item(), accuracy=accuracy.item(), lr=optimizer.param_groups[0]['lr'])\n",
    "                # Updating the plot\n",
    "                x_data.append(i)\n",
    "                acc_data.append(accuracy.item())\n",
    "                lr_data.append(optimizer.param_groups[0]['lr'])\n",
    "                line.set_data(x_data, acc_data)\n",
    "                line2.set_data(x_data, lr_data)\n",
    "                ax.relim()\n",
    "                ax.autoscale_view()                \n",
    "                ax2.relim()\n",
    "                ax2.autoscale_view()                \n",
    "                fig.canvas.draw()\n",
    "                fig.canvas.flush_events()\n",
    "        # scheduler.step()\n",
    "        print(f'Epoch {epoch + 1}, Loss: {loss.item()}')\n",
    "        torch.save(model.state_dict(), checkpoint)\n",
    "\n"
   ],
   "metadata": {
    "collapsed": false,
    "ExecuteTime": {
     "end_time": "2024-06-07T19:59:15.612037Z",
     "start_time": "2024-06-07T19:59:15.592006Z"
    }
   },
   "id": "61b77e7b29603d5a",
   "execution_count": 108
  },
  {
   "cell_type": "code",
   "outputs": [],
   "source": [
    "def validate(model):\n",
    "    model.eval()\n",
    "    val_accuracy = 0\n",
    "    with torch.no_grad():\n",
    "        for images, labels in test_loader:\n",
    "            images = images.view(-1, 28 * 28).to(device)\n",
    "            output = model(images)\n",
    "            val_accuracy += (output.argmax(dim=1) == labels.to(device)).float().mean().item()\n",
    "    val_accuracy /= len(test_loader)\n",
    "    print(f\"Accuracy: {val_accuracy}\")"
   ],
   "metadata": {
    "collapsed": false
   },
   "id": "bf029fd77b2548da",
   "execution_count": null
  },
  {
   "cell_type": "code",
   "outputs": [
    {
     "name": "stderr",
     "output_type": "stream",
     "text": [
      "100%|██████████| 94/94 [00:07<00:00, 12.08it/s, accuracy=0.292, loss=2.3, lr=0.1]  \n"
     ]
    },
    {
     "name": "stdout",
     "output_type": "stream",
     "text": [
      "Epoch 1, Loss: 2.3025853633880615\n"
     ]
    },
    {
     "data": {
      "text/plain": "<Figure size 640x480 with 2 Axes>",
      "image/png": "[encoded data removed]"
     },
     "metadata": {},
     "output_type": "display_data"
    }
   ],
   "source": [
    "model = KAN([28 * 28, 64, 10]).to(device)\n",
    "train(model, 'checkpoint/kan_mnist.pth')"
   ],
   "metadata": {
    "collapsed": false,
    "ExecuteTime": {
     "end_time": "2024-06-07T19:59:26.324718Z",
     "start_time": "2024-06-07T19:59:18.372513Z"
    }
   },
   "id": "92a0016a18d24ce5",
   "execution_count": 109
  }
 ],
 "metadata": {
  "kernelspec": {
   "display_name": "Python 3",
   "language": "python",
   "name": "python3"
  },
  "language_info": {
   "codemirror_mode": {
    "name": "ipython",
    "version": 2
   },
   "file_extension": ".py",
   "mimetype": "text/x-python",
   "name": "python",
   "nbconvert_exporter": "python",
   "pygments_lexer": "ipython2",
   "version": "2.7.6"
  }
 },
 "nbformat": 4,
 "nbformat_minor": 5
}
