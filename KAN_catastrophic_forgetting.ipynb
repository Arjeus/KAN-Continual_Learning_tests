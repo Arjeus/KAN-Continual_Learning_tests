{
 "nbformat": 4,
 "nbformat_minor": 0,
 "metadata": {
  "colab": {
   "provenance": [],
   "gpuType": "T4"
  },
  "kernelspec": {
   "name": "python3",
   "language": "python",
   "display_name": "Python 3 (ipykernel)"
  },
  "language_info": {
   "name": "python"
  },
  "accelerator": "GPU"
 },
 "cells": [
  {
   "cell_type": "code",
   "execution_count": 1,
   "metadata": {
    "colab": {
     "base_uri": "https://localhost:8080/"
    },
    "id": "7XeWbedvWJy8",
    "outputId": "a0a63f50-947b-4b6a-def9-d7e2a68d6d1e"
   },
   "outputs": [
    {
     "output_type": "stream",
     "name": "stdout",
     "text": [
      "Cloning into 'KAN_tests'...\n",
      "remote: Enumerating objects: 32, done.\u001B[K\n",
      "remote: Counting objects: 100% (32/32), done.\u001B[K\n",
      "remote: Compressing objects: 100% (29/29), done.\u001B[K\n",
      "remote: Total 32 (delta 3), reused 31 (delta 2), pack-reused 0\u001B[K\n",
      "Receiving objects: 100% (32/32), 2.61 MiB | 13.22 MiB/s, done.\n",
      "Resolving deltas: 100% (3/3), done.\n"
     ]
    }
   ],
   "source": [
    "! git clone https://github.com/MrPio/KAN_tests\n",
    "! mv KAN_tests/* ./\n",
    "! rm -r KAN_tests/"
   ]
  },
  {
   "cell_type": "code",
   "source": [
    "from matplotlib import pyplot as plt\n",
    "import torch\n",
    "from torch import optim, nn\n",
    "from torch.utils.data import DataLoader\n",
    "from torchvision import datasets\n",
    "from torchvision.transforms import transforms\n",
    "from tqdm import tqdm\n",
    "\n",
    "from efficient_kan.kan import KAN\n",
    "\n",
    "device = torch.device(\"cuda\" if torch.cuda.is_available() else \"cpu\")\n",
    "device"
   ],
   "metadata": {
    "colab": {
     "base_uri": "https://localhost:8080/"
    },
    "id": "yWiWRkwDWw2p",
    "outputId": "d17af05f-829c-440e-dfc8-e48ab916f8c5",
    "ExecuteTime": {
     "end_time": "2024-06-07T20:51:20.882888Z",
     "start_time": "2024-06-07T20:51:20.863115Z"
    }
   },
   "execution_count": 2,
   "outputs": [
    {
     "data": {
      "text/plain": "device(type='cuda')"
     },
     "execution_count": 2,
     "metadata": {},
     "output_type": "execute_result"
    }
   ]
  },
  {
   "cell_type": "code",
   "source": [
    "transform = transforms.Compose([transforms.ToTensor(), transforms.Normalize((0.5,), (0.5,))])\n",
    "# Train set. Here we sort the MNIST by digits and disable data shuffling\n",
    "train_dataset = datasets.MNIST(root='./data', train=True, download=True, transform=transform)\n",
    "sorted_indices = sorted(range(len(train_dataset)//1), key=lambda idx: train_dataset.targets[idx])\n",
    "# sorted_indices = range(len(train_dataset)//10)\n",
    "train_dataset = torch.utils.data.Subset(train_dataset, sorted_indices)\n",
    "train_loader = DataLoader(train_dataset, batch_size=64, shuffle=False)\n",
    "# Test set\n",
    "test_dataset = datasets.MNIST(root='./data', train=False, download=True, transform=transform)\n",
    "test_loader = DataLoader(test_dataset, batch_size=64, shuffle=False)"
   ],
   "metadata": {
    "colab": {
     "base_uri": "https://localhost:8080/"
    },
    "id": "Nsbz3Wv5WzQ_",
    "outputId": "1bf57b3c-2d26-4d46-93f4-f81eeffcc902",
    "ExecuteTime": {
     "end_time": "2024-06-07T21:18:39.560968Z",
     "start_time": "2024-06-07T21:18:37.586969Z"
    }
   },
   "execution_count": 14,
   "outputs": []
  },
  {
   "cell_type": "code",
   "source": [
    "def train(model, checkpoint, epochs=5):\n",
    "    criterion = nn.CrossEntropyLoss()\n",
    "    optimizer = optim.AdamW(model.parameters(), lr=1e-6,weight_decay=1e-4)\n",
    "    # scheduler = optim.lr_scheduler.ExponentialLR(optimizer, gamma=0.996)\n",
    "    for epoch in range(epochs):\n",
    "        model.train()\n",
    "        with tqdm(train_loader) as pbar:\n",
    "            for i, (images, labels) in enumerate(pbar):\n",
    "                images = images.view(-1, 28 * 28).to(device)\n",
    "                optimizer.zero_grad()\n",
    "                output = model(images)\n",
    "                loss = criterion(output, labels.to(device))\n",
    "                loss.backward()\n",
    "                optimizer.step()\n",
    "                accuracy = (output.argmax(dim=1) == labels.to(device)).float().mean()\n",
    "                pbar.set_postfix(loss=loss.item(), accuracy=accuracy.item(), lr=optimizer.param_groups[0]['lr'])\n",
    "                # scheduler.step()\n",
    "        print(f'Epoch {epoch + 1}, Loss: {loss.item()}')\n",
    "        torch.save(model.state_dict(), checkpoint)"
   ],
   "metadata": {
    "id": "53WGZkwyWzl3",
    "ExecuteTime": {
     "end_time": "2024-06-07T21:18:42.894345Z",
     "start_time": "2024-06-07T21:18:42.882311Z"
    }
   },
   "execution_count": 15,
   "outputs": []
  },
  {
   "cell_type": "code",
   "source": [
    "def validate(model):\n",
    "    model.eval()\n",
    "    vals=[0]*10\n",
    "    val_accuracy = 0\n",
    "    with torch.no_grad():\n",
    "        for images, labels in test_loader:\n",
    "            images = images.view(-1, 28 * 28).to(device)\n",
    "            output = model(images)\n",
    "            for out in output.argmax(dim=1):\n",
    "              vals[out.item()]+=1\n",
    "            val_accuracy += (output.argmax(dim=1) == labels.to(device)).float().mean().item()\n",
    "    val_accuracy /= len(test_loader)\n",
    "    print(vals)\n",
    "    print(f\"Accuracy: {val_accuracy}\")"
   ],
   "metadata": {
    "id": "GV8qnvqbWzzH",
    "ExecuteTime": {
     "end_time": "2024-06-07T21:18:47.758560Z",
     "start_time": "2024-06-07T21:18:47.740528Z"
    }
   },
   "execution_count": 16,
   "outputs": []
  },
  {
   "cell_type": "code",
   "source": [
    "model = KAN([28 * 28, 256, 64, 10]).to(device)\n",
    "train(model, 'checkpoint/kan_mnist.pth')"
   ],
   "metadata": {
    "colab": {
     "base_uri": "https://localhost:8080/",
     "height": 382
    },
    "collapsed": true,
    "id": "idr2gYZmW8H7",
    "outputId": "1f67a246-8d04-42f8-899c-f98321a85747",
    "ExecuteTime": {
     "end_time": "2024-06-07T21:21:13.759657Z",
     "start_time": "2024-06-07T21:18:49.195023Z"
    }
   },
   "execution_count": 17,
   "outputs": [
    {
     "name": "stderr",
     "output_type": "stream",
     "text": [
      "100%|██████████| 938/938 [00:29<00:00, 31.52it/s, accuracy=0, loss=2.32, lr=1e-6]     \n"
     ]
    },
    {
     "name": "stdout",
     "output_type": "stream",
     "text": [
      "Epoch 1, Loss: 2.3166604042053223\n"
     ]
    },
    {
     "name": "stderr",
     "output_type": "stream",
     "text": [
      "100%|██████████| 938/938 [00:29<00:00, 32.01it/s, accuracy=0.0312, loss=2.31, lr=1e-6]\n"
     ]
    },
    {
     "name": "stdout",
     "output_type": "stream",
     "text": [
      "Epoch 2, Loss: 2.310750961303711\n"
     ]
    },
    {
     "name": "stderr",
     "output_type": "stream",
     "text": [
      "100%|██████████| 938/938 [00:27<00:00, 34.63it/s, accuracy=0.0312, loss=2.3, lr=1e-6] \n"
     ]
    },
    {
     "name": "stdout",
     "output_type": "stream",
     "text": [
      "Epoch 3, Loss: 2.3049917221069336\n"
     ]
    },
    {
     "name": "stderr",
     "output_type": "stream",
     "text": [
      "100%|██████████| 938/938 [00:28<00:00, 33.46it/s, accuracy=0, loss=2.3, lr=1e-6]      \n"
     ]
    },
    {
     "name": "stdout",
     "output_type": "stream",
     "text": [
      "Epoch 4, Loss: 2.299386501312256\n"
     ]
    },
    {
     "name": "stderr",
     "output_type": "stream",
     "text": [
      "100%|██████████| 938/938 [00:30<00:00, 31.10it/s, accuracy=0, loss=2.29, lr=1e-6]     "
     ]
    },
    {
     "name": "stdout",
     "output_type": "stream",
     "text": [
      "Epoch 5, Loss: 2.2938811779022217\n"
     ]
    },
    {
     "name": "stderr",
     "output_type": "stream",
     "text": [
      "\n"
     ]
    }
   ]
  },
  {
   "cell_type": "code",
   "source": [
    "model = KAN([28 * 28, 256, 64, 10]).to(device)\n",
    "model.load_state_dict(torch.load('checkpoint/kan_mnist.pth'))\n",
    "validate(model)"
   ],
   "metadata": {
    "colab": {
     "base_uri": "https://localhost:8080/"
    },
    "collapsed": true,
    "id": "M0NK1c5vYNqn",
    "outputId": "5464f771-ee47-416c-d339-0772b610e5d2",
    "ExecuteTime": {
     "end_time": "2024-06-07T21:21:36.051850Z",
     "start_time": "2024-06-07T21:21:31.991852Z"
    }
   },
   "execution_count": 19,
   "outputs": [
    {
     "name": "stdout",
     "output_type": "stream",
     "text": [
      "[942, 2937, 578, 361, 1294, 502, 1147, 1600, 537, 102]\n",
      "Accuracy: 0.5325437898089171\n"
     ]
    }
   ]
  }
 ]
}
