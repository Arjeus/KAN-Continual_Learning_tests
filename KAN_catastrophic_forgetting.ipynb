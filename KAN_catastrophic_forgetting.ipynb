{
 "nbformat": 4,
 "nbformat_minor": 0,
 "metadata": {
  "colab": {
   "provenance": [],
   "gpuType": "T4"
  },
  "kernelspec": {
   "name": "python3",
   "language": "python",
   "display_name": "Python 3 (ipykernel)"
  },
  "language_info": {
   "name": "python"
  },
  "accelerator": "GPU"
 },
 "cells": [
  {
   "cell_type": "code",
   "execution_count": 26,
   "metadata": {
    "id": "a-td3yfwzemE",
    "ExecuteTime": {
     "end_time": "2024-06-19T19:49:01.242728Z",
     "start_time": "2024-06-19T19:49:01.218603Z"
    }
   },
   "outputs": [
    {
     "data": {
      "text/plain": "device(type='cuda')"
     },
     "execution_count": 26,
     "metadata": {},
     "output_type": "execute_result"
    }
   ],
   "source": [
    "import itertools\n",
    "import os\n",
    "import pickle\n",
    "import time\n",
    "\n",
    "import torch\n",
    "import torch.nn as nn\n",
    "import torch.nn.functional as F\n",
    "import torch.optim as optim\n",
    "import torchvision.transforms as transforms\n",
    "from matplotlib import pyplot as plt\n",
    "from matplotlib.ticker import MaxNLocator\n",
    "from torch.utils.data import DataLoader\n",
    "from torchvision import datasets\n",
    "from tqdm import tqdm\n",
    "\n",
    "from efficient_kan.kan import KAN\n",
    "from kan_convolutional import KANLinear\n",
    "from kan_convolutional.KANConv import KAN_Convolutional_Layer\n",
    "\n",
    "device = torch.device(\"cuda\" if torch.cuda.is_available() else \"cpu\")\n",
    "device"
   ]
  },
  {
   "cell_type": "markdown",
   "source": [
    "# TRAININGSET + TESTSET DEFINITION"
   ],
   "metadata": {
    "collapsed": false
   }
  },
  {
   "cell_type": "code",
   "source": [
    "transform = transforms.Compose([transforms.ToTensor(), transforms.Normalize((0.5,), (0.5,))])\n",
    "# Train set. Here we sort the MNIST by digits and disable data shuffling\n",
    "train_dataset = datasets.MNIST(root='./data', train=True, download=True, transform=transform)\n",
    "sorted_indices = sorted(range(len(train_dataset) // 1), key=lambda idx: train_dataset.targets[idx])\n",
    "train_subset = torch.utils.data.Subset(train_dataset, sorted_indices)\n",
    "train_loader = DataLoader(train_subset, batch_size=64, shuffle=False)\n",
    "\n",
    "# MultiTask training sets\n",
    "train_loader_tasks=[]\n",
    "for k in range(5):\n",
    "    sorted_indices =list(filter(lambda idx:train_dataset.targets[idx] in range(k*2,k*2+2), range(len(train_dataset))))\n",
    "    train_loader_tasks.append(DataLoader(torch.utils.data.Subset(train_dataset, sorted_indices),batch_size=64, shuffle=True))\n",
    "\n",
    "# Test set\n",
    "test_dataset = datasets.MNIST(root='./data', train=False, download=True, transform=transform)\n",
    "test_subset = torch.utils.data.Subset(test_dataset, range(len(test_dataset) // 1))\n",
    "test_loader = DataLoader(test_subset, batch_size=64, shuffle=False)\n"
   ],
   "metadata": {
    "colab": {
     "base_uri": "https://localhost:8080/"
    },
    "id": "NepArtgMuvo3",
    "outputId": "1def6b8f-2fda-423b-fb06-731f01e99cc1",
    "ExecuteTime": {
     "end_time": "2024-06-19T19:17:12.652979Z",
     "start_time": "2024-06-19T19:17:05.808084Z"
    }
   },
   "execution_count": 2,
   "outputs": []
  },
  {
   "cell_type": "markdown",
   "source": [
    "# ARCHITECTURES DEFINITION"
   ],
   "metadata": {
    "collapsed": false
   }
  },
  {
   "cell_type": "code",
   "outputs": [],
   "source": [
    "# MLP\n",
    "class MLP(nn.Module):\n",
    "    def __init__(self, checkpoint: str | None = None):\n",
    "        super(MLP, self).__init__()\n",
    "        self.fc1 = nn.Linear(28 * 28, 28 * 28)\n",
    "        self.fc2 = nn.Linear(28 * 28, 256)\n",
    "        self.fc3 = nn.Linear(256, 10)\n",
    "        if checkpoint:\n",
    "            self.load_state_dict(torch.load(checkpoint))\n",
    "            self.eval()\n",
    "\n",
    "    def forward(self, x):\n",
    "        x = x.view(-1, 28 * 28)\n",
    "        x = torch.relu(self.fc1(x))\n",
    "        x = torch.relu(self.fc2(x))\n",
    "        x = self.fc3(x)\n",
    "        return x"
   ],
   "metadata": {
    "collapsed": false,
    "ExecuteTime": {
     "end_time": "2024-06-19T19:17:12.668562Z",
     "start_time": "2024-06-19T19:17:12.656173Z"
    }
   },
   "execution_count": 3
  },
  {
   "cell_type": "code",
   "outputs": [],
   "source": [
    "# KAN\n",
    "class KAN_small(nn.Module):\n",
    "    def __init__(self, device=device, checkpoint: str | None = None):\n",
    "        super(KAN_small, self).__init__()\n",
    "        self.model = KAN([28 * 28, 128, 10]).to(device)\n",
    "        if checkpoint:\n",
    "            self.load_state_dict(torch.load(checkpoint))\n",
    "            self.eval()\n",
    "\n",
    "    def forward(self, x):\n",
    "        return self.model(x)\n",
    "\n",
    "\n",
    "class KAN_big(nn.Module):\n",
    "    def __init__(self, device=device):\n",
    "        super(KAN_big, self).__init__()\n",
    "        self.model = KAN([28 * 28, 28 * 28, 128, 10]).to(device)\n",
    "\n",
    "    def forward(self, x):\n",
    "        return self.model(x)"
   ],
   "metadata": {
    "collapsed": false,
    "ExecuteTime": {
     "end_time": "2024-06-19T19:17:12.684670Z",
     "start_time": "2024-06-19T19:17:12.669811Z"
    }
   },
   "execution_count": 4
  },
  {
   "cell_type": "code",
   "outputs": [],
   "source": [
    "# KAN_Convolutional_Layer + MLP\n",
    "class CKAN_BN(nn.Module):\n",
    "    def __init__(self, device: str = device):\n",
    "        super().__init__()\n",
    "        self.conv1 = KAN_Convolutional_Layer(\n",
    "            n_convs=5,\n",
    "            kernel_size=(3, 3),\n",
    "            device=device\n",
    "        )\n",
    "        self.bn1 = nn.BatchNorm2d(5)\n",
    "\n",
    "        self.conv2 = KAN_Convolutional_Layer(\n",
    "            n_convs=5,\n",
    "            kernel_size=(3, 3),\n",
    "            device=device\n",
    "        )\n",
    "        self.bn2 = nn.BatchNorm2d(25)\n",
    "\n",
    "        self.pool1 = nn.MaxPool2d(\n",
    "            kernel_size=(2, 2)\n",
    "        )\n",
    "\n",
    "        self.flat = nn.Flatten()\n",
    "\n",
    "        self.linear1 = nn.Linear(625, 256)\n",
    "        self.linear2 = nn.Linear(256, 10)\n",
    "\n",
    "    def forward(self, x):\n",
    "        x = self.conv1(x)\n",
    "        x = self.bn1(x)\n",
    "        x = self.pool1(x)\n",
    "\n",
    "        x = self.conv2(x)\n",
    "        x = self.bn2(x)\n",
    "\n",
    "        x = self.pool1(x)\n",
    "        x = self.flat(x)\n",
    "        x = self.linear1(x)\n",
    "        x = self.linear2(x)\n",
    "        return x"
   ],
   "metadata": {
    "collapsed": false,
    "ExecuteTime": {
     "end_time": "2024-06-19T19:17:12.700514Z",
     "start_time": "2024-06-19T19:17:12.687025Z"
    }
   },
   "execution_count": 5
  },
  {
   "cell_type": "code",
   "outputs": [],
   "source": [
    "# KAN_Convolutional_Layer + MLP (without Batch Norm)\n",
    "class KANC_MLP(nn.Module):\n",
    "    def __init__(self, device: str = device):\n",
    "        super().__init__()\n",
    "        self.conv1 = KAN_Convolutional_Layer(\n",
    "            n_convs=5,\n",
    "            kernel_size=(3, 3),\n",
    "            device=device\n",
    "        )\n",
    "\n",
    "        self.conv2 = KAN_Convolutional_Layer(\n",
    "            n_convs=5,\n",
    "            kernel_size=(3, 3),\n",
    "            device=device\n",
    "        )\n",
    "\n",
    "        self.pool1 = nn.MaxPool2d(\n",
    "            kernel_size=(2, 2)\n",
    "        )\n",
    "\n",
    "        self.flat = nn.Flatten()\n",
    "\n",
    "        self.linear1 = nn.Linear(625, 256)\n",
    "        self.linear2 = nn.Linear(256, 10)\n",
    "\n",
    "    def forward(self, x):\n",
    "        x = self.conv1(x)\n",
    "\n",
    "        x = self.pool1(x)\n",
    "\n",
    "        x = self.conv2(x)\n",
    "        x = self.pool1(x)\n",
    "        x = self.flat(x)\n",
    "        x = self.linear1(x)\n",
    "        x = self.linear2(x)\n",
    "        x = F.log_softmax(x, dim=1)\n",
    "        return x"
   ],
   "metadata": {
    "collapsed": false,
    "ExecuteTime": {
     "end_time": "2024-06-19T19:17:12.716288Z",
     "start_time": "2024-06-19T19:17:12.701702Z"
    }
   },
   "execution_count": 6
  },
  {
   "cell_type": "code",
   "outputs": [],
   "source": [
    "# Conv2d + KAN\n",
    "class NormalConvsKAN(nn.Module):\n",
    "    def __init__(self):\n",
    "        super(NormalConvsKAN, self).__init__()\n",
    "        # Convolutional layer, assuming an input with 1 channel (grayscale image)\n",
    "        # and producing 16 output channels, with a kernel size of 3x3\n",
    "        self.conv1 = nn.Conv2d(1, 5, kernel_size=3, padding=1)\n",
    "        self.conv2 = nn.Conv2d(5, 5, kernel_size=3, padding=1)\n",
    "\n",
    "        # Max pooling layer\n",
    "        self.maxpool = nn.MaxPool2d(kernel_size=2)\n",
    "\n",
    "        # Flatten layer\n",
    "        self.flatten = nn.Flatten()\n",
    "\n",
    "        # KAN layer\n",
    "        self.kan1 = KANLinear(\n",
    "            245,\n",
    "            10,\n",
    "            grid_size=10,\n",
    "            spline_order=3,\n",
    "            scale_noise=0.01,\n",
    "            scale_base=1,\n",
    "            scale_spline=1,\n",
    "            base_activation=nn.SiLU,\n",
    "            grid_eps=0.02,\n",
    "            grid_range=[0, 1])\n",
    "\n",
    "    def forward(self, x):\n",
    "        x = F.relu(self.conv1(x))\n",
    "        x = self.maxpool(x)\n",
    "        x = F.relu(self.conv2(x))\n",
    "        x = self.maxpool(x)\n",
    "        x = self.flatten(x)\n",
    "        x = self.kan1(x)\n",
    "        x = F.log_softmax(x, dim=1)\n",
    "\n",
    "        return x"
   ],
   "metadata": {
    "collapsed": false,
    "ExecuteTime": {
     "end_time": "2024-06-19T19:17:12.735513Z",
     "start_time": "2024-06-19T19:17:12.717366Z"
    }
   },
   "execution_count": 7
  },
  {
   "cell_type": "code",
   "outputs": [],
   "source": [
    "# Conv2d + MLP + (Dropout)\n",
    "class ConvNet(nn.Module):\n",
    "    def __init__(self):\n",
    "        super(ConvNet, self).__init__()\n",
    "        self.conv1 = nn.Conv2d(1, 32, kernel_size=5, padding='same')\n",
    "        self.conv2 = nn.Conv2d(32, 32, kernel_size=5, padding='same')\n",
    "\n",
    "        self.conv3 = nn.Conv2d(32, 64, kernel_size=3, padding='same')\n",
    "        self.conv4 = nn.Conv2d(64, 64, kernel_size=3, padding='same')\n",
    "\n",
    "        self.maxpool = nn.MaxPool2d(kernel_size=2, stride=2)\n",
    "\n",
    "        self.dropout1 = nn.Dropout(0.25)\n",
    "        self.dropout2 = nn.Dropout(0.25)\n",
    "        self.dropout3 = nn.Dropout(0.5)\n",
    "\n",
    "        self.fc1 = nn.Linear(64 * 7 * 7, 256)\n",
    "        self.fc2 = nn.Linear(256, 10)\n",
    "\n",
    "    def forward(self, x):\n",
    "        x = F.relu(self.conv1(x))\n",
    "        x = F.relu(self.conv2(x))\n",
    "        x = self.maxpool(x)\n",
    "        #x = self.dropout1(x)\n",
    "\n",
    "        x = F.relu(self.conv3(x))\n",
    "        x = F.relu(self.conv4(x))\n",
    "        x = self.maxpool(x)\n",
    "        #x = self.dropout2(x)\n",
    "\n",
    "        x = torch.flatten(x, 1)\n",
    "        x = F.relu(self.fc1(x))\n",
    "        #x = self.dropout3(x)\n",
    "        x = self.fc2(x)\n",
    "\n",
    "        #x = F.log_softmax(x, dim=1)\n",
    "        return x"
   ],
   "metadata": {
    "collapsed": false,
    "ExecuteTime": {
     "end_time": "2024-06-19T19:17:12.754705Z",
     "start_time": "2024-06-19T19:17:12.736687Z"
    }
   },
   "execution_count": 8
  },
  {
   "cell_type": "code",
   "outputs": [],
   "source": [
    "# KAN_Convolutional_Layer + KAN\n",
    "class KKAN_Convolutional_Network(nn.Module):\n",
    "    def __init__(self, device: str = device):\n",
    "        super().__init__()\n",
    "        self.conv1 = KAN_Convolutional_Layer(\n",
    "            n_convs=5,\n",
    "            kernel_size=(3, 3),\n",
    "            device=device\n",
    "        )\n",
    "\n",
    "        self.conv2 = KAN_Convolutional_Layer(\n",
    "            n_convs=5,\n",
    "            kernel_size=(3, 3),\n",
    "            device=device\n",
    "        )\n",
    "\n",
    "        self.pool1 = nn.MaxPool2d(\n",
    "            kernel_size=(2, 2)\n",
    "        )\n",
    "\n",
    "        self.flat = nn.Flatten()\n",
    "\n",
    "        self.kan1 = KANLinear(\n",
    "            625,\n",
    "            10,\n",
    "            grid_size=10,\n",
    "            spline_order=3,\n",
    "            scale_noise=0.01,\n",
    "            scale_base=1,\n",
    "            scale_spline=1,\n",
    "            base_activation=nn.SiLU,\n",
    "            grid_eps=0.02,\n",
    "            grid_range=[0, 1],\n",
    "        )\n",
    "\n",
    "    def forward(self, x):\n",
    "        x = self.conv1(x)\n",
    "\n",
    "        x = self.pool1(x)\n",
    "\n",
    "        x = self.conv2(x)\n",
    "        x = self.pool1(x)\n",
    "        x = self.flat(x)\n",
    "\n",
    "        x = self.kan1(x)\n",
    "        x = F.log_softmax(x, dim=1)\n",
    "\n",
    "        return x"
   ],
   "metadata": {
    "collapsed": false,
    "ExecuteTime": {
     "end_time": "2024-06-19T19:17:12.770562Z",
     "start_time": "2024-06-19T19:17:12.757062Z"
    }
   },
   "execution_count": 9
  },
  {
   "cell_type": "code",
   "outputs": [],
   "source": [
    "# Conv2d + MLP\n",
    "class SimpleCNN(nn.Module):\n",
    "    def __init__(self):\n",
    "        super(SimpleCNN, self).__init__()\n",
    "        self.conv1 = nn.Conv2d(1, 5, kernel_size=3, padding=1)\n",
    "        self.conv2 = nn.Conv2d(5, 5, kernel_size=3, padding=1)\n",
    "\n",
    "        self.maxpool = nn.MaxPool2d(kernel_size=2)\n",
    "\n",
    "        self.flatten = nn.Flatten()\n",
    "        self.fc = nn.Linear(245, 10)\n",
    "\n",
    "    def forward(self, x):\n",
    "        x = F.relu(self.conv1(x))\n",
    "        x = self.maxpool(x)\n",
    "        x = F.relu(self.conv2(x))\n",
    "        x = self.maxpool(x)\n",
    "        x = self.flatten(x)\n",
    "        x = self.fc(x)\n",
    "        x = F.log_softmax(x, dim=1)\n",
    "\n",
    "        return x\n",
    "\n",
    "\n",
    "class SimpleCNN_2(nn.Module):\n",
    "    def __init__(self):\n",
    "        super(SimpleCNN_2, self).__init__()\n",
    "        self.conv1 = nn.Conv2d(1, 5, kernel_size=3, padding=0)\n",
    "        self.conv2 = nn.Conv2d(5, 25, kernel_size=3, padding=0)\n",
    "\n",
    "        self.maxpool = nn.MaxPool2d(kernel_size=2)\n",
    "\n",
    "        self.flatten = nn.Flatten()\n",
    "        self.fc = nn.Linear(625, 245)\n",
    "        self.fc2 = nn.Linear(245, 10)\n",
    "\n",
    "    def forward(self, x):\n",
    "        x = F.relu(self.conv1(x))\n",
    "        x = self.maxpool(x)\n",
    "        x = F.relu(self.conv2(x))\n",
    "        x = self.maxpool(x)\n",
    "        x = self.flatten(x)\n",
    "        x = self.fc(x)\n",
    "        x = F.relu(x)\n",
    "        x = self.fc2(x)\n",
    "        x = F.log_softmax(x, dim=1)\n",
    "\n",
    "        return x"
   ],
   "metadata": {
    "collapsed": false,
    "ExecuteTime": {
     "end_time": "2024-06-19T19:17:12.786150Z",
     "start_time": "2024-06-19T19:17:12.772386Z"
    }
   },
   "execution_count": 10
  },
  {
   "cell_type": "markdown",
   "source": [
    "# TRAIN() AND TEST() FUNCTIONS"
   ],
   "metadata": {
    "collapsed": false
   }
  },
  {
   "cell_type": "code",
   "outputs": [],
   "source": [
    "def train(model, checkpoint, optimizer, start_epoch=0, epochs=5, on_epoch_end=None, lr=0, loader=train_loader,task_id=None):\n",
    "    criterion = nn.CrossEntropyLoss()\n",
    "    # scheduler = optim.lr_scheduler.ExponentialLR(optimizer, gamma=0.996)\n",
    "    for epoch in range(start_epoch, epochs + start_epoch):\n",
    "        model.train()\n",
    "        losses = []\n",
    "        accuracies = []\n",
    "        epoch_start = time.time_ns()\n",
    "        with tqdm(loader) as pbar:\n",
    "            for i, (images, labels) in enumerate(pbar):\n",
    "                if model.__class__.__name__ in ['MLP', 'KAN_small', 'KAN_big']:\n",
    "                    images = images.view(-1, 28 * 28)\n",
    "                optimizer.zero_grad()\n",
    "                output = model(images.to(device))\n",
    "                loss = criterion(output, labels.to(device))\n",
    "                loss.backward()\n",
    "                optimizer.step(closure=lambda: loss)\n",
    "                accuracy = (output.argmax(dim=1) == labels.to(device)).float().mean()\n",
    "                pbar.set_postfix(loss=loss.item(), accuracy=accuracy.item(), lr=optimizer.param_groups[0]['lr'])\n",
    "                losses.append(loss.item())\n",
    "                accuracies.append(accuracy.item())\n",
    "                # scheduler.step()\n",
    "        print(f'Epoch {epoch + 1}, Loss: {loss.item()}')\n",
    "        epoch_duration = (time.time_ns() - epoch_start) // 1000000\n",
    "        if on_epoch_end is not None:\n",
    "            on_epoch_end(model, epoch, losses, accuracies, epoch_duration, lr, task_id)\n",
    "        torch.save(model.state_dict(), f'{checkpoint}_ep{epoch + 1}.pth')"
   ],
   "metadata": {
    "id": "jwrKUPn3vyDb",
    "ExecuteTime": {
     "end_time": "2024-06-19T19:17:12.802026Z",
     "start_time": "2024-06-19T19:17:12.789737Z"
    }
   },
   "execution_count": 11
  },
  {
   "cell_type": "code",
   "outputs": [],
   "source": [
    "def test(model):\n",
    "    model.eval()\n",
    "    criterion = nn.CrossEntropyLoss()\n",
    "    predictions = []\n",
    "    ground_truths = []\n",
    "    val_accuracy = 0\n",
    "    loss = 0\n",
    "    with torch.no_grad():\n",
    "        for images, labels in test_loader:\n",
    "            if model.__class__.__name__ in ['MLP', 'KAN_small', 'KAN_big']:\n",
    "                images = images.view(-1, 28 * 28)\n",
    "            output = model(images.to(device))\n",
    "            loss = criterion(output, labels.to(device))\n",
    "            predictions.extend(output.argmax(dim=1).to('cpu').numpy())\n",
    "            ground_truths.extend(labels.to('cpu').numpy())\n",
    "            val_accuracy += (output.argmax(dim=1) == labels.to(device)).float().mean().item()\n",
    "    val_accuracy /= len(test_loader)\n",
    "    print(f\"Accuracy: {val_accuracy}\")\n",
    "    return loss.item(), ground_truths, predictions"
   ],
   "metadata": {
    "collapsed": false,
    "ExecuteTime": {
     "end_time": "2024-06-19T19:17:12.817551Z",
     "start_time": "2024-06-19T19:17:12.803298Z"
    }
   },
   "execution_count": 12
  },
  {
   "cell_type": "markdown",
   "source": [
    "# INTRA and INTER DATASET TESTS"
   ],
   "metadata": {
    "collapsed": false
   }
  },
  {
   "cell_type": "code",
   "outputs": [],
   "source": [
    "class EpochStat:\n",
    "    @staticmethod\n",
    "    def loadModelStats(name, dir= 'checkpoint_intra/stats/',subdir='') -> list['EpochStat']:\n",
    "        return sorted([pickle.load(open(f'{dir}{subdir}{file}', 'rb')) for file in\n",
    "                filter(lambda e: name == '_'.join(e.split('_')[:-1]), os.listdir(f'{dir}{subdir}'))],key=lambda e:e.epoch)\n",
    "\n",
    "    def __init__(self, name, epoch, train_loss=0, test_loss=0, labels=None, predictions=None, epoch_duration=0, lr=0,\n",
    "                 train_losses=None, train_accuracies=None, task_id=None):\n",
    "        self.name = name\n",
    "        self.train_loss = train_loss\n",
    "        self.test_loss = test_loss\n",
    "        self.epoch = epoch\n",
    "        self.predictions = predictions\n",
    "        self.labels = labels\n",
    "        self.epoch_duration = epoch_duration\n",
    "        self.lr = lr\n",
    "        self.train_losses = train_losses\n",
    "        self.train_accuracies = train_accuracies\n",
    "        self.task_id=task_id\n",
    "\n",
    "    def save(self, dir= 'checkpoint_intra/stats/'):\n",
    "        pickle.dump(self, open(f'{dir}{self.name}_epoch{self.epoch}.pickle', 'wb'))\n",
    "\n",
    "    def get_accuracy(self):\n",
    "        accuracy = 0\n",
    "        for label, prediction in zip(self.labels, self.predictions):\n",
    "            if label == prediction:\n",
    "                accuracy += 1\n",
    "        return accuracy / len(self.labels)\n",
    "\n",
    "\n",
    "def onEpochEnd(model, epoch, train_losses, train_accuracies, epoch_duration, lr,task_id):\n",
    "    test_loss, labels, predictions = test(model)\n",
    "    stat = EpochStat(model.__class__.__name__, epoch, train_losses[-1], test_loss, labels, predictions, epoch_duration,  lr, train_losses, train_accuracies,task_id)\n",
    "    stat.save(dir= 'checkpoint_intra/stats/' if task_id is None else 'checkpoint_inter/stats/')"
   ],
   "metadata": {
    "collapsed": false,
    "ExecuteTime": {
     "end_time": "2024-06-19T19:17:12.833435Z",
     "start_time": "2024-06-19T19:17:12.818747Z"
    }
   },
   "execution_count": 13
  },
  {
   "cell_type": "markdown",
   "source": [
    "## INTRA DATASET TEST"
   ],
   "metadata": {
    "collapsed": false
   }
  },
  {
   "cell_type": "code",
   "outputs": [],
   "source": [
    "models = [MLP(), KAN_small(),\n",
    "          CKAN_BN(), KANC_MLP(), NormalConvsKAN(), ConvNet(),\n",
    "          KKAN_Convolutional_Network(), SimpleCNN()]\n",
    "for model in [x.to(device) for x in models[:2]]:\n",
    "    print(f'Training model={model.__class__.__name__}')\n",
    "    lr = 1e-5 if model.__class__.__name__ in ['MLP', 'KAN_small', 'KAN_big'] else 1e-4\n",
    "    train(model, f'checkpoint/{model.__class__.__name__}', epochs=1, start_epoch=0,\n",
    "          optimizer=optim.Adam(model.parameters(), lr=lr), on_epoch_end=onEpochEnd, lr=lr)"
   ],
   "metadata": {
    "collapsed": false
   },
   "execution_count": null
  },
  {
   "cell_type": "markdown",
   "source": [
    "## INTER DATASET TEST"
   ],
   "metadata": {
    "collapsed": false
   }
  },
  {
   "cell_type": "code",
   "outputs": [],
   "source": [
    "models = [MLP(), KAN_small(),\n",
    "          CKAN_BN(), KANC_MLP(), NormalConvsKAN(), ConvNet(),\n",
    "          KKAN_Convolutional_Network(), SimpleCNN()]\n",
    "for model in [x.to(device) for x in models[:2]]:\n",
    "    print(f'Training model={model.__class__.__name__}')\n",
    "    lr = 1e-6 if model.__class__.__name__ in ['MLP', 'KAN_small', 'KAN_big'] else 1e-4\n",
    "    for i, task in enumerate(train_loader_tasks):\n",
    "        print(f'Training on task {i}')\n",
    "        train(model, f'checkpoint_inter/{model.__class__.__name__}', epochs=10, start_epoch=i*10,\n",
    "          optimizer=optim.Adam(model.parameters(), lr=lr), on_epoch_end=onEpochEnd, lr=lr, loader=task, task_id=i)"
   ],
   "metadata": {
    "collapsed": false
   },
   "execution_count": null
  },
  {
   "cell_type": "markdown",
   "source": [
    "# RESULTS PLOTTING"
   ],
   "metadata": {
    "collapsed": false
   }
  },
  {
   "cell_type": "code",
   "outputs": [
    {
     "data": {
      "text/plain": "<Figure size 2400x800 with 1 Axes>",
      "image/png": "[encoded data removed]"
     },
     "metadata": {},
     "output_type": "display_data"
    }
   ],
   "source": [
    "models = [MLP(), KAN_small(),\n",
    "          CKAN_BN(), KANC_MLP(), NormalConvsKAN(), ConvNet(),\n",
    "          KKAN_Convolutional_Network(), SimpleCNN()]\n",
    "fig, ax = plt.subplots()\n",
    "batches = [\n",
    "    0,\n",
    "    5923,\n",
    "    6742,\n",
    "    5958,\n",
    "    6131,\n",
    "    5842,\n",
    "    5421,\n",
    "    5918,\n",
    "    6265,\n",
    "    5851,\n",
    "    # 5949,\n",
    "]\n",
    "granularity = 2\n",
    "for name in list(map(lambda e: e.__class__.__name__, models[:2])):\n",
    "    stats = EpochStat.loadModelStats(name, dir='checkpoint_intra/stats/',subdir='')\n",
    "    ax.plot(list(map(lambda e: e.get_accuracy(), stats)), label=name)\n",
    "    # ax.plot(list(map(lambda e: e.train_losses, stats))[0][::granularity], label=name)\n",
    "plt.legend()\n",
    "ax.xaxis.set_major_locator(MaxNLocator(integer=True))\n",
    "# ax.set_xticks([x//64//granularity for x in itertools.accumulate(batches)])\n",
    "# ax.set_xticklabels(range(10))\n",
    "# plt.vlines(x=[x//64//granularity for x in itertools.accumulate(batches)], ymin=0, ymax=7, colors='black',alpha=0.65, linestyles='dashed')\n",
    "plt.xlabel('Train Digits Batches', fontdict={'fontsize':14})\n",
    "plt.ylabel('Train batch Accuracy', fontdict={'fontsize':14})\n",
    "plt.title('Train batch accuracy spikes show up when a new digit is submitted', fontdict={'fontsize':16})\n",
    "# plt.xlabel('Epoch', fontdict={'fontsize':14})\n",
    "# plt.ylabel('Test accuracy', fontdict={'fontsize':14})\n",
    "# plt.title('Domain-IL Continual learning Scenario', fontdict={'fontsize':16})\n",
    "# plt.vlines(x=range(0, 50,10)[1:], ymin=0.165, ymax=0.5, colors='black',alpha=0.65, linestyles='dashed')\n",
    "fig.set_size_inches(24, 8)\n",
    "plt.show()"
   ],
   "metadata": {
    "collapsed": false,
    "ExecuteTime": {
     "end_time": "2024-06-19T19:49:14.931533Z",
     "start_time": "2024-06-19T19:49:14.211452Z"
    }
   },
   "execution_count": 28
  },
  {
   "cell_type": "code",
   "outputs": [
    {
     "name": "stdout",
     "output_type": "stream",
     "text": [
      "[9, 19, 29, 39, 49, 59, 69, 79, 89, 99]\n"
     ]
    }
   ],
   "source": [
    "print(list(range(100))[9::10])"
   ],
   "metadata": {
    "collapsed": false,
    "ExecuteTime": {
     "end_time": "2024-06-19T18:38:54.135742Z",
     "start_time": "2024-06-19T18:38:54.117680Z"
    }
   },
   "execution_count": 83
  },
  {
   "cell_type": "markdown",
   "source": [
    "## CONFUSION MATRICES PLOTTING"
   ],
   "metadata": {
    "collapsed": false
   }
  },
  {
   "cell_type": "code",
   "outputs": [],
   "source": [
    "from sklearn.metrics import confusion_matrix, ConfusionMatrixDisplay\n",
    "\n",
    "models = [MLP(), KAN_small(),\n",
    "          CKAN_BN(), KANC_MLP(), NormalConvsKAN(), ConvNet(),\n",
    "          KKAN_Convolutional_Network(), SimpleCNN()]\n",
    "plt.rc('font', size=18)\n",
    "for name in list(map(lambda e: e.__class__.__name__, models[:2])):\n",
    "    stats = EpochStat.loadModelStats(name, dir='checkpoint_inter/stats/',subdir='')\n",
    "    for stat in stats[:]:\n",
    "        cm = confusion_matrix(stat.labels, stat.predictions, labels=range(10))\n",
    "        disp = ConfusionMatrixDisplay(confusion_matrix=cm, display_labels=range(10))\n",
    "        disp.plot()\n",
    "        fig = disp.ax_.get_figure() \n",
    "        fig.set_figwidth(12)\n",
    "        fig.set_figheight(12)  \n",
    "        plt.figtext(0.445, 0.85, f'{name.replace(\"KAN_small\",\"KAN\")} Epoch: {stat.epoch}', ha='center', fontsize=22)\n",
    "        fig.savefig(f'png/inter/lr_-6/{name} ep{stat.epoch}.png')"
   ],
   "metadata": {
    "collapsed": false
   },
   "execution_count": null
  }
 ]
}
