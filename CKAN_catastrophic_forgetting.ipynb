{
 "nbformat": 4,
 "nbformat_minor": 0,
 "metadata": {
  "colab": {
   "provenance": [],
   "gpuType": "T4"
  },
  "kernelspec": {
   "name": "python3",
   "language": "python",
   "display_name": "Python 3 (ipykernel)"
  },
  "language_info": {
   "name": "python"
  },
  "accelerator": "GPU"
 },
 "cells": [
  {
   "cell_type": "code",
   "execution_count": 2,
   "metadata": {
    "id": "a-td3yfwzemE",
    "ExecuteTime": {
     "end_time": "2024-06-07T22:04:29.471009Z",
     "start_time": "2024-06-07T22:04:21.234076Z"
    }
   },
   "outputs": [
    {
     "data": {
      "text/plain": "device(type='cuda')"
     },
     "execution_count": 2,
     "metadata": {},
     "output_type": "execute_result"
    }
   ],
   "source": [
    "import torch\n",
    "import torch.nn as nn\n",
    "import torch.optim as optim\n",
    "import torchvision.transforms as transforms\n",
    "import torch.nn.functional as F\n",
    "from torchvision import datasets\n",
    "from torch.utils.data import DataLoader\n",
    "from tqdm import tqdm\n",
    "\n",
    "from kan_convolutional import KANLinear\n",
    "from kan_convolutional.KANConv import KAN_Convolutional_Layer\n",
    "\n",
    "device = torch.device(\"cuda\" if torch.cuda.is_available() else \"cpu\")\n",
    "device"
   ]
  },
  {
   "cell_type": "code",
   "source": [
    "transform = transforms.Compose([transforms.ToTensor(), transforms.Normalize((0.5,), (0.5,))])\n",
    "# Train set. Here we sort the MNIST by digits and disable data shuffling\n",
    "train_dataset = datasets.MNIST(root='./data', train=True, download=True, transform=transform)\n",
    "sorted_indices = sorted(range(len(train_dataset)//10), key=lambda idx: train_dataset.targets[idx])\n",
    "# sorted_indices = range(len(train_dataset)//10)\n",
    "train_dataset = torch.utils.data.Subset(train_dataset, sorted_indices)\n",
    "train_loader = DataLoader(train_dataset, batch_size=64, shuffle=False)\n",
    "# Test set\n",
    "test_dataset = datasets.MNIST(root='./data', train=False, download=True, transform=transform)\n",
    "test_loader = DataLoader(test_dataset, batch_size=64, shuffle=False)"
   ],
   "metadata": {
    "colab": {
     "base_uri": "https://localhost:8080/"
    },
    "id": "NepArtgMuvo3",
    "outputId": "1def6b8f-2fda-423b-fb06-731f01e99cc1",
    "ExecuteTime": {
     "end_time": "2024-06-07T22:15:08.015696Z",
     "start_time": "2024-06-07T22:15:07.795812Z"
    }
   },
   "execution_count": 16,
   "outputs": []
  },
  {
   "cell_type": "code",
   "source": [
    "def train(model, checkpoint, epochs=5):\n",
    "    criterion = nn.CrossEntropyLoss()\n",
    "    optimizer = optim.Adam(model.parameters(), lr=1e-4)\n",
    "    # scheduler = optim.lr_scheduler.ExponentialLR(optimizer, gamma=0.996)\n",
    "    for epoch in range(epochs):\n",
    "        model.train()\n",
    "        with tqdm(train_loader) as pbar:\n",
    "            for i, (images, labels) in enumerate(pbar):\n",
    "                optimizer.zero_grad()\n",
    "                output = model(images.to(device))\n",
    "                loss = criterion(output, labels.to(device))\n",
    "                loss.backward()\n",
    "                optimizer.step()\n",
    "                accuracy = (output.argmax(dim=1) == labels.to(device)).float().mean()\n",
    "                pbar.set_postfix(loss=loss.item(), accuracy=accuracy.item(), lr=optimizer.param_groups[0]['lr'])\n",
    "                # scheduler.step()\n",
    "        print(f'Epoch {epoch + 1}, Loss: {loss.item()}')\n",
    "        torch.save(model.state_dict(), checkpoint)"
   ],
   "metadata": {
    "id": "jwrKUPn3vyDb",
    "ExecuteTime": {
     "end_time": "2024-06-07T22:18:43.498768Z",
     "start_time": "2024-06-07T22:18:43.480789Z"
    }
   },
   "execution_count": 38,
   "outputs": []
  },
  {
   "cell_type": "code",
   "outputs": [],
   "source": [
    "def validate(model):\n",
    "    model.eval()\n",
    "    vals=[0]*10\n",
    "    val_accuracy = 0\n",
    "    with torch.no_grad():\n",
    "        for images, labels in test_loader:\n",
    "            output = model(images.to(device))\n",
    "            for out in output.argmax(dim=1):\n",
    "              vals[out.item()]+=1\n",
    "            val_accuracy += (output.argmax(dim=1) == labels.to(device)).float().mean().item()\n",
    "    val_accuracy /= len(test_loader)\n",
    "    print(vals)\n",
    "    print(f\"Accuracy: {val_accuracy}\")"
   ],
   "metadata": {
    "collapsed": false,
    "ExecuteTime": {
     "end_time": "2024-06-07T22:05:42.556841Z",
     "start_time": "2024-06-07T22:05:42.539693Z"
    }
   },
   "execution_count": 7
  },
  {
   "cell_type": "code",
   "outputs": [],
   "source": [
    "class CKAN_BN(nn.Module):\n",
    "    def __init__(self,device: str = device):\n",
    "        super().__init__()\n",
    "        self.conv1 = KAN_Convolutional_Layer(\n",
    "            n_convs = 5,\n",
    "            kernel_size= (3,3),\n",
    "            device = device\n",
    "        )\n",
    "        self.bn1 = nn.BatchNorm2d(5)\n",
    "\n",
    "        self.conv2 = KAN_Convolutional_Layer(\n",
    "            n_convs = 5,\n",
    "            kernel_size = (3,3),\n",
    "            device = device\n",
    "        )\n",
    "        self.bn2 = nn.BatchNorm2d(25)\n",
    "\n",
    "        self.pool1 = nn.MaxPool2d(\n",
    "            kernel_size=(2, 2)\n",
    "        )\n",
    "        \n",
    "        self.flat = nn.Flatten() \n",
    "        \n",
    "        self.linear1 = nn.Linear(625, 256)\n",
    "        self.linear2 = nn.Linear(256, 10)\n",
    "\n",
    "    def forward(self, x):\n",
    "        x = self.conv1(x)\n",
    "        x = self.bn1(x)\n",
    "        x = self.pool1(x)\n",
    "\n",
    "        x = self.conv2(x)\n",
    "        x = self.bn2(x)\n",
    "       \n",
    "        x = self.pool1(x)\n",
    "        x = self.flat(x)\n",
    "        x = self.linear1(x)\n",
    "        x = self.linear2(x)\n",
    "        return x"
   ],
   "metadata": {
    "collapsed": false,
    "ExecuteTime": {
     "end_time": "2024-06-07T22:19:44.293100Z",
     "start_time": "2024-06-07T22:19:44.286581Z"
    }
   },
   "execution_count": 40
  },
  {
   "cell_type": "code",
   "outputs": [],
   "source": [
    "# Too much memory\n",
    "class SuperCKAN(nn.Module):\n",
    "    def __init__(self,device: str = 'cpu'):\n",
    "        super().__init__()\n",
    "        self.conv1 = KAN_Convolutional_Layer(\n",
    "            n_convs = 12,\n",
    "            kernel_size= (5,5),\n",
    "            device = device\n",
    "        )\n",
    "\n",
    "        self.conv2 = KAN_Convolutional_Layer(\n",
    "            n_convs = 12,\n",
    "            kernel_size = (4,4),\n",
    "            device = device,\n",
    "            grid_size=10\n",
    "        )\n",
    "        self.conv3 = KAN_Convolutional_Layer(\n",
    "            n_convs = 24,\n",
    "            kernel_size = (3,3),\n",
    "            device = device,\n",
    "            grid_size=10\n",
    "        )\n",
    "        self.pool1 = nn.MaxPool2d(\n",
    "            kernel_size=(2, 2)\n",
    "        )\n",
    "        \n",
    "        self.flat = nn.Flatten() \n",
    "        self.linear1 = nn.Linear(3456, 256)\n",
    "        self.dropout1 = nn.Dropout(0.25)\n",
    "\n",
    "        self.linear2 = nn.Linear(256, 10)\n",
    "\n",
    "\n",
    "    def forward(self, x):\n",
    "        x = self.conv1(x)\n",
    "\n",
    "        x = self.pool1(x)\n",
    "\n",
    "        x = self.conv2(x)\n",
    "        x = self.pool1(x)\n",
    "        x = self.conv3(x)\n",
    "        x = self.pool1(x)\n",
    "        x = self.flat(x)\n",
    "        x = self.linear1(x)\n",
    "        x = self.dropout1(x)\n",
    "\n",
    "        x = self.linear2(x)\n",
    "        return x"
   ],
   "metadata": {
    "collapsed": false,
    "ExecuteTime": {
     "end_time": "2024-06-07T21:59:48.181761Z",
     "start_time": "2024-06-07T21:59:48.161685Z"
    }
   },
   "execution_count": 57
  },
  {
   "cell_type": "code",
   "outputs": [],
   "source": [
    "class NormalConvsKAN(nn.Module):\n",
    "    def __init__(self):\n",
    "        super(NormalConvsKAN, self).__init__()\n",
    "        # Convolutional layer, assuming an input with 1 channel (grayscale image)\n",
    "        # and producing 16 output channels, with a kernel size of 3x3\n",
    "        self.conv1 = nn.Conv2d(1, 5, kernel_size=3, padding=1)\n",
    "        self.conv2 = nn.Conv2d(5, 5, kernel_size=3, padding=1)\n",
    "\n",
    "        # Max pooling layer\n",
    "        self.maxpool = nn.MaxPool2d(kernel_size=2)\n",
    "        \n",
    "        # Flatten layer\n",
    "        self.flatten = nn.Flatten()\n",
    "\n",
    "        # KAN layer\n",
    "        self.kan1 = KANLinear(\n",
    "            245,\n",
    "            10,\n",
    "            grid_size=10,\n",
    "            spline_order=3,\n",
    "            scale_noise=0.01,\n",
    "            scale_base=1,\n",
    "            scale_spline=1,\n",
    "            base_activation=nn.SiLU,\n",
    "            grid_eps=0.02,\n",
    "            grid_range=[0,1])\n",
    "\n",
    "\n",
    "    def forward(self, x):\n",
    "        x = F.relu(self.conv1(x))\n",
    "        x = self.maxpool(x)\n",
    "        x = F.relu(self.conv2(x))\n",
    "        x = self.maxpool(x)\n",
    "        x = self.flatten(x)\n",
    "        x = self.kan1(x)\n",
    "        x = F.log_softmax(x, dim=1)\n",
    "\n",
    "        return x"
   ],
   "metadata": {
    "collapsed": false,
    "ExecuteTime": {
     "end_time": "2024-06-07T22:04:33.318031Z",
     "start_time": "2024-06-07T22:04:33.307782Z"
    }
   },
   "execution_count": 3
  },
  {
   "cell_type": "code",
   "outputs": [],
   "source": [
    "class ConvNet(nn.Module):\n",
    "    def __init__(self):\n",
    "        super(ConvNet, self).__init__()\n",
    "        self.conv1 = nn.Conv2d(1, 32, kernel_size=5, padding='same')\n",
    "        self.conv2 = nn.Conv2d(32, 32, kernel_size=5, padding='same')\n",
    "\n",
    "        self.conv3 = nn.Conv2d(32, 64, kernel_size=3, padding='same')\n",
    "        self.conv4 = nn.Conv2d(64, 64, kernel_size=3, padding='same')\n",
    "\n",
    "        self.maxpool = nn.MaxPool2d(kernel_size=2, stride=2)\n",
    "\n",
    "        self.dropout1 = nn.Dropout(0.25)\n",
    "        self.dropout2 = nn.Dropout(0.25)\n",
    "        self.dropout3 = nn.Dropout(0.5)\n",
    "\n",
    "        self.fc1 = nn.Linear(64 * 7 * 7, 256) \n",
    "        self.fc2 = nn.Linear(256, 10)\n",
    "\n",
    "    def forward(self, x):\n",
    "        x = F.relu(self.conv1(x))\n",
    "        x = F.relu(self.conv2(x))\n",
    "        x = self.maxpool(x)\n",
    "        #x = self.dropout1(x)\n",
    "\n",
    "        x = F.relu(self.conv3(x))\n",
    "        x = F.relu(self.conv4(x))\n",
    "        x = self.maxpool(x)\n",
    "        #x = self.dropout2(x)\n",
    "\n",
    "        x = torch.flatten(x, 1) \n",
    "        x = F.relu(self.fc1(x))\n",
    "        #x = self.dropout3(x)\n",
    "        x = self.fc2(x)\n",
    "\n",
    "        #x = F.log_softmax(x, dim=1)\n",
    "        return x"
   ],
   "metadata": {
    "collapsed": false,
    "ExecuteTime": {
     "end_time": "2024-06-07T22:17:23.587906Z",
     "start_time": "2024-06-07T22:17:23.571726Z"
    }
   },
   "execution_count": 31
  },
  {
   "cell_type": "code",
   "source": [
    "model = CKAN_BN().to(device)\n",
    "train(model,'checkpoint/ckan_no_shuffle.pth',epochs=3)"
   ],
   "metadata": {
    "colab": {
     "base_uri": "https://localhost:8080/"
    },
    "id": "jCXm_Ahav3ON",
    "outputId": "378dc5a4-530f-48f8-f22c-780d0b5a0a0e",
    "ExecuteTime": {
     "end_time": "2024-06-07T22:20:40.488634Z",
     "start_time": "2024-06-07T22:19:51.642207Z"
    }
   },
   "execution_count": 41,
   "outputs": [
    {
     "name": "stderr",
     "output_type": "stream",
     "text": [
      "100%|██████████| 94/94 [00:16<00:00,  5.70it/s, accuracy=0, loss=2.02, lr=0.0001]     \n"
     ]
    },
    {
     "name": "stdout",
     "output_type": "stream",
     "text": [
      "Epoch 1, Loss: 2.0244109630584717\n"
     ]
    },
    {
     "name": "stderr",
     "output_type": "stream",
     "text": [
      "100%|██████████| 94/94 [00:16<00:00,  5.86it/s, accuracy=0.271, loss=1.45, lr=0.0001] \n"
     ]
    },
    {
     "name": "stdout",
     "output_type": "stream",
     "text": [
      "Epoch 2, Loss: 1.449166178703308\n"
     ]
    },
    {
     "name": "stderr",
     "output_type": "stream",
     "text": [
      "100%|██████████| 94/94 [00:16<00:00,  5.78it/s, accuracy=0.688, loss=1.19, lr=0.0001] "
     ]
    },
    {
     "name": "stdout",
     "output_type": "stream",
     "text": [
      "Epoch 3, Loss: 1.189634919166565\n"
     ]
    },
    {
     "name": "stderr",
     "output_type": "stream",
     "text": [
      "\n"
     ]
    }
   ]
  },
  {
   "cell_type": "code",
   "outputs": [
    {
     "name": "stdout",
     "output_type": "stream",
     "text": [
      "[678, 985, 249, 553, 607, 404, 1764, 1533, 2191, 1036]\n",
      "Accuracy: 0.6770501592356688\n"
     ]
    }
   ],
   "source": [
    "model = CKAN_BN().to(device)\n",
    "model.load_state_dict(torch.load('checkpoint/ckan_no_shuffle.pth'))\n",
    "validate(model)"
   ],
   "metadata": {
    "collapsed": false,
    "ExecuteTime": {
     "end_time": "2024-06-07T22:20:57.795540Z",
     "start_time": "2024-06-07T22:20:43.755246Z"
    }
   },
   "execution_count": 42
  }
 ]
}
