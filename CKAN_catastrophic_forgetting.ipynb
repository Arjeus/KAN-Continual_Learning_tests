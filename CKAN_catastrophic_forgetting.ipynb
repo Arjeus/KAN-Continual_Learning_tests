{
  "nbformat": 4,
  "nbformat_minor": 0,
  "metadata": {
    "colab": {
      "provenance": [],
      "gpuType": "T4"
    },
    "kernelspec": {
      "name": "python3",
      "display_name": "Python 3"
    },
    "language_info": {
      "name": "python"
    },
    "accelerator": "GPU"
  },
  "cells": [
    {
      "cell_type": "code",
      "execution_count": 1,
      "metadata": {
        "colab": {
          "base_uri": "https://localhost:8080/"
        },
        "collapsed": true,
        "id": "11lU9U0KzQ7F",
        "outputId": "3fb743a0-18e9-4663-82e4-46acd797edd9"
      },
      "outputs": [
        {
          "output_type": "stream",
          "name": "stdout",
          "text": [
            "Cloning into 'Convolutional-KANs'...\n",
            "remote: Enumerating objects: 1528, done.\u001b[K\n",
            "remote: Counting objects: 100% (374/374), done.\u001b[K\n",
            "remote: Compressing objects: 100% (150/150), done.\u001b[K\n",
            "remote: Total 1528 (delta 248), reused 345 (delta 221), pack-reused 1154\u001b[K\n",
            "Receiving objects: 100% (1528/1528), 33.37 MiB | 28.06 MiB/s, done.\n",
            "Resolving deltas: 100% (722/722), done.\n"
          ]
        }
      ],
      "source": [
        "!git clone https://github.com/AntonioTepsich/Convolutional-KANs.git\n",
        "\n"
      ]
    },
    {
      "cell_type": "code",
      "execution_count": 2,
      "metadata": {
        "id": "Y9m-I6Pz4TKk"
      },
      "outputs": [],
      "source": [
        "!mv Convolutional-KANs ConvolutionalKANs\n",
        "import sys\n",
        "sys.path.append('/content/ConvolutionalKANs/kan_convolutional')\n",
        "sys.path.append('/content/ConvolutionalKANs')"
      ]
    },
    {
      "cell_type": "code",
      "execution_count": 3,
      "metadata": {
        "colab": {
          "base_uri": "https://localhost:8080/"
        },
        "collapsed": true,
        "id": "-gMVup5V1fgx",
        "outputId": "33386ca2-f6fb-4363-cdaf-3262e043ea60"
      },
      "outputs": [
        {
          "output_type": "stream",
          "name": "stdout",
          "text": [
            "Collecting torch==2.0.1\n",
            "  Using cached torch-2.0.1-cp310-cp310-manylinux1_x86_64.whl (619.9 MB)\n",
            "Collecting torchvision==0.15.2\n",
            "  Using cached torchvision-0.15.2-cp310-cp310-manylinux1_x86_64.whl (6.0 MB)\n",
            "Collecting torchaudio==2.0.1\n",
            "  Using cached torchaudio-2.0.1-cp310-cp310-manylinux1_x86_64.whl (4.4 MB)\n",
            "Requirement already satisfied: filelock in /usr/local/lib/python3.10/dist-packages (from torch==2.0.1) (3.14.0)\n",
            "Requirement already satisfied: typing-extensions in /usr/local/lib/python3.10/dist-packages (from torch==2.0.1) (4.12.1)\n",
            "Requirement already satisfied: sympy in /usr/local/lib/python3.10/dist-packages (from torch==2.0.1) (1.12.1)\n",
            "Requirement already satisfied: networkx in /usr/local/lib/python3.10/dist-packages (from torch==2.0.1) (3.3)\n",
            "Requirement already satisfied: jinja2 in /usr/local/lib/python3.10/dist-packages (from torch==2.0.1) (3.1.4)\n",
            "Collecting nvidia-cuda-nvrtc-cu11==11.7.99 (from torch==2.0.1)\n",
            "  Using cached nvidia_cuda_nvrtc_cu11-11.7.99-2-py3-none-manylinux1_x86_64.whl (21.0 MB)\n",
            "Collecting nvidia-cuda-runtime-cu11==11.7.99 (from torch==2.0.1)\n",
            "  Using cached nvidia_cuda_runtime_cu11-11.7.99-py3-none-manylinux1_x86_64.whl (849 kB)\n",
            "Collecting nvidia-cuda-cupti-cu11==11.7.101 (from torch==2.0.1)\n",
            "  Using cached nvidia_cuda_cupti_cu11-11.7.101-py3-none-manylinux1_x86_64.whl (11.8 MB)\n",
            "Collecting nvidia-cudnn-cu11==8.5.0.96 (from torch==2.0.1)\n",
            "  Using cached nvidia_cudnn_cu11-8.5.0.96-2-py3-none-manylinux1_x86_64.whl (557.1 MB)\n",
            "Collecting nvidia-cublas-cu11==11.10.3.66 (from torch==2.0.1)\n",
            "  Using cached nvidia_cublas_cu11-11.10.3.66-py3-none-manylinux1_x86_64.whl (317.1 MB)\n",
            "Collecting nvidia-cufft-cu11==10.9.0.58 (from torch==2.0.1)\n",
            "  Using cached nvidia_cufft_cu11-10.9.0.58-py3-none-manylinux1_x86_64.whl (168.4 MB)\n",
            "Collecting nvidia-curand-cu11==10.2.10.91 (from torch==2.0.1)\n",
            "  Using cached nvidia_curand_cu11-10.2.10.91-py3-none-manylinux1_x86_64.whl (54.6 MB)\n",
            "Collecting nvidia-cusolver-cu11==11.4.0.1 (from torch==2.0.1)\n",
            "  Using cached nvidia_cusolver_cu11-11.4.0.1-2-py3-none-manylinux1_x86_64.whl (102.6 MB)\n",
            "Collecting nvidia-cusparse-cu11==11.7.4.91 (from torch==2.0.1)\n",
            "  Using cached nvidia_cusparse_cu11-11.7.4.91-py3-none-manylinux1_x86_64.whl (173.2 MB)\n",
            "Collecting nvidia-nccl-cu11==2.14.3 (from torch==2.0.1)\n",
            "  Using cached nvidia_nccl_cu11-2.14.3-py3-none-manylinux1_x86_64.whl (177.1 MB)\n",
            "Collecting nvidia-nvtx-cu11==11.7.91 (from torch==2.0.1)\n",
            "  Using cached nvidia_nvtx_cu11-11.7.91-py3-none-manylinux1_x86_64.whl (98 kB)\n",
            "Collecting triton==2.0.0 (from torch==2.0.1)\n",
            "  Using cached triton-2.0.0-1-cp310-cp310-manylinux2014_x86_64.manylinux_2_17_x86_64.whl (63.3 MB)\n",
            "Requirement already satisfied: numpy in /usr/local/lib/python3.10/dist-packages (from torchvision==0.15.2) (1.26.4)\n",
            "Requirement already satisfied: requests in /usr/local/lib/python3.10/dist-packages (from torchvision==0.15.2) (2.31.0)\n",
            "Requirement already satisfied: pillow!=8.3.*,>=5.3.0 in /usr/local/lib/python3.10/dist-packages (from torchvision==0.15.2) (9.4.0)\n",
            "INFO: pip is looking at multiple versions of torchaudio to determine which version is compatible with other requirements. This could take a while.\n",
            "\u001b[31mERROR: Cannot install torch==2.0.1, torchaudio==2.0.1 and torchvision==0.15.2 because these package versions have conflicting dependencies.\u001b[0m\u001b[31m\n",
            "\u001b[0m\n",
            "The conflict is caused by:\n",
            "    The user requested torch==2.0.1\n",
            "    torchvision 0.15.2 depends on torch==2.0.1\n",
            "    torchaudio 2.0.1 depends on torch==2.0.0\n",
            "\n",
            "To fix this you could try to:\n",
            "1. loosen the range of package versions you've specified\n",
            "2. remove package versions to allow pip attempt to solve the dependency conflict\n",
            "\n",
            "\u001b[31mERROR: ResolutionImpossible: for help visit https://pip.pypa.io/en/latest/topics/dependency-resolution/#dealing-with-dependency-conflicts\u001b[0m\u001b[31m\n",
            "\u001b[0m"
          ]
        }
      ],
      "source": [
        "!pip install torch==2.0.1 torchvision==0.15.2 torchaudio==2.0.1"
      ]
    },
    {
      "cell_type": "code",
      "execution_count": 4,
      "metadata": {
        "colab": {
          "base_uri": "https://localhost:8080/"
        },
        "collapsed": true,
        "id": "l4rQL4eQ1lfl",
        "outputId": "4f614292-2323-4a81-b980-d0c74f297105"
      },
      "outputs": [
        {
          "output_type": "stream",
          "name": "stdout",
          "text": [
            "Requirement already satisfied: matplotlib==3.6.2 in /usr/local/lib/python3.10/dist-packages (from -r ConvolutionalKANs/requirements.txt (line 1)) (3.6.2)\n",
            "Requirement already satisfied: numpy==1.26.4 in /usr/local/lib/python3.10/dist-packages (from -r ConvolutionalKANs/requirements.txt (line 2)) (1.26.4)\n",
            "Requirement already satisfied: pandas==2.2.2 in /usr/local/lib/python3.10/dist-packages (from -r ConvolutionalKANs/requirements.txt (line 3)) (2.2.2)\n",
            "Requirement already satisfied: scikit-learn==1.4.2 in /usr/local/lib/python3.10/dist-packages (from -r ConvolutionalKANs/requirements.txt (line 4)) (1.4.2)\n",
            "Requirement already satisfied: tqdm==4.66.4 in /usr/local/lib/python3.10/dist-packages (from -r ConvolutionalKANs/requirements.txt (line 5)) (4.66.4)\n",
            "Requirement already satisfied: torch==2.3.0 in /usr/local/lib/python3.10/dist-packages (from -r ConvolutionalKANs/requirements.txt (line 6)) (2.3.0+cu121)\n",
            "Requirement already satisfied: torchvision==0.18.0 in /usr/local/lib/python3.10/dist-packages (from -r ConvolutionalKANs/requirements.txt (line 7)) (0.18.0+cu121)\n",
            "Requirement already satisfied: contourpy>=1.0.1 in /usr/local/lib/python3.10/dist-packages (from matplotlib==3.6.2->-r ConvolutionalKANs/requirements.txt (line 1)) (1.2.1)\n",
            "Requirement already satisfied: cycler>=0.10 in /usr/local/lib/python3.10/dist-packages (from matplotlib==3.6.2->-r ConvolutionalKANs/requirements.txt (line 1)) (0.12.1)\n",
            "Requirement already satisfied: fonttools>=4.22.0 in /usr/local/lib/python3.10/dist-packages (from matplotlib==3.6.2->-r ConvolutionalKANs/requirements.txt (line 1)) (4.53.0)\n",
            "Requirement already satisfied: kiwisolver>=1.0.1 in /usr/local/lib/python3.10/dist-packages (from matplotlib==3.6.2->-r ConvolutionalKANs/requirements.txt (line 1)) (1.4.5)\n",
            "Requirement already satisfied: packaging>=20.0 in /usr/local/lib/python3.10/dist-packages (from matplotlib==3.6.2->-r ConvolutionalKANs/requirements.txt (line 1)) (24.0)\n",
            "Requirement already satisfied: pillow>=6.2.0 in /usr/local/lib/python3.10/dist-packages (from matplotlib==3.6.2->-r ConvolutionalKANs/requirements.txt (line 1)) (9.4.0)\n",
            "Requirement already satisfied: pyparsing>=2.2.1 in /usr/local/lib/python3.10/dist-packages (from matplotlib==3.6.2->-r ConvolutionalKANs/requirements.txt (line 1)) (3.1.2)\n",
            "Requirement already satisfied: python-dateutil>=2.7 in /usr/local/lib/python3.10/dist-packages (from matplotlib==3.6.2->-r ConvolutionalKANs/requirements.txt (line 1)) (2.8.2)\n",
            "Requirement already satisfied: pytz>=2020.1 in /usr/local/lib/python3.10/dist-packages (from pandas==2.2.2->-r ConvolutionalKANs/requirements.txt (line 3)) (2023.4)\n",
            "Requirement already satisfied: tzdata>=2022.7 in /usr/local/lib/python3.10/dist-packages (from pandas==2.2.2->-r ConvolutionalKANs/requirements.txt (line 3)) (2024.1)\n",
            "Requirement already satisfied: scipy>=1.6.0 in /usr/local/lib/python3.10/dist-packages (from scikit-learn==1.4.2->-r ConvolutionalKANs/requirements.txt (line 4)) (1.11.4)\n",
            "Requirement already satisfied: joblib>=1.2.0 in /usr/local/lib/python3.10/dist-packages (from scikit-learn==1.4.2->-r ConvolutionalKANs/requirements.txt (line 4)) (1.4.2)\n",
            "Requirement already satisfied: threadpoolctl>=2.0.0 in /usr/local/lib/python3.10/dist-packages (from scikit-learn==1.4.2->-r ConvolutionalKANs/requirements.txt (line 4)) (3.5.0)\n",
            "Requirement already satisfied: filelock in /usr/local/lib/python3.10/dist-packages (from torch==2.3.0->-r ConvolutionalKANs/requirements.txt (line 6)) (3.14.0)\n",
            "Requirement already satisfied: typing-extensions>=4.8.0 in /usr/local/lib/python3.10/dist-packages (from torch==2.3.0->-r ConvolutionalKANs/requirements.txt (line 6)) (4.12.1)\n",
            "Requirement already satisfied: sympy in /usr/local/lib/python3.10/dist-packages (from torch==2.3.0->-r ConvolutionalKANs/requirements.txt (line 6)) (1.12.1)\n",
            "Requirement already satisfied: networkx in /usr/local/lib/python3.10/dist-packages (from torch==2.3.0->-r ConvolutionalKANs/requirements.txt (line 6)) (3.3)\n",
            "Requirement already satisfied: jinja2 in /usr/local/lib/python3.10/dist-packages (from torch==2.3.0->-r ConvolutionalKANs/requirements.txt (line 6)) (3.1.4)\n",
            "Requirement already satisfied: fsspec in /usr/local/lib/python3.10/dist-packages (from torch==2.3.0->-r ConvolutionalKANs/requirements.txt (line 6)) (2023.6.0)\n",
            "Requirement already satisfied: nvidia-cuda-nvrtc-cu12==12.1.105 in /usr/local/lib/python3.10/dist-packages (from torch==2.3.0->-r ConvolutionalKANs/requirements.txt (line 6)) (12.1.105)\n",
            "Requirement already satisfied: nvidia-cuda-runtime-cu12==12.1.105 in /usr/local/lib/python3.10/dist-packages (from torch==2.3.0->-r ConvolutionalKANs/requirements.txt (line 6)) (12.1.105)\n",
            "Requirement already satisfied: nvidia-cuda-cupti-cu12==12.1.105 in /usr/local/lib/python3.10/dist-packages (from torch==2.3.0->-r ConvolutionalKANs/requirements.txt (line 6)) (12.1.105)\n",
            "Requirement already satisfied: nvidia-cudnn-cu12==8.9.2.26 in /usr/local/lib/python3.10/dist-packages (from torch==2.3.0->-r ConvolutionalKANs/requirements.txt (line 6)) (8.9.2.26)\n",
            "Requirement already satisfied: nvidia-cublas-cu12==12.1.3.1 in /usr/local/lib/python3.10/dist-packages (from torch==2.3.0->-r ConvolutionalKANs/requirements.txt (line 6)) (12.1.3.1)\n",
            "Requirement already satisfied: nvidia-cufft-cu12==11.0.2.54 in /usr/local/lib/python3.10/dist-packages (from torch==2.3.0->-r ConvolutionalKANs/requirements.txt (line 6)) (11.0.2.54)\n",
            "Requirement already satisfied: nvidia-curand-cu12==10.3.2.106 in /usr/local/lib/python3.10/dist-packages (from torch==2.3.0->-r ConvolutionalKANs/requirements.txt (line 6)) (10.3.2.106)\n",
            "Requirement already satisfied: nvidia-cusolver-cu12==11.4.5.107 in /usr/local/lib/python3.10/dist-packages (from torch==2.3.0->-r ConvolutionalKANs/requirements.txt (line 6)) (11.4.5.107)\n",
            "Requirement already satisfied: nvidia-cusparse-cu12==12.1.0.106 in /usr/local/lib/python3.10/dist-packages (from torch==2.3.0->-r ConvolutionalKANs/requirements.txt (line 6)) (12.1.0.106)\n",
            "Requirement already satisfied: nvidia-nccl-cu12==2.20.5 in /usr/local/lib/python3.10/dist-packages (from torch==2.3.0->-r ConvolutionalKANs/requirements.txt (line 6)) (2.20.5)\n",
            "Requirement already satisfied: nvidia-nvtx-cu12==12.1.105 in /usr/local/lib/python3.10/dist-packages (from torch==2.3.0->-r ConvolutionalKANs/requirements.txt (line 6)) (12.1.105)\n",
            "Requirement already satisfied: triton==2.3.0 in /usr/local/lib/python3.10/dist-packages (from torch==2.3.0->-r ConvolutionalKANs/requirements.txt (line 6)) (2.3.0)\n",
            "Requirement already satisfied: nvidia-nvjitlink-cu12 in /usr/local/lib/python3.10/dist-packages (from nvidia-cusolver-cu12==11.4.5.107->torch==2.3.0->-r ConvolutionalKANs/requirements.txt (line 6)) (12.5.40)\n",
            "Requirement already satisfied: six>=1.5 in /usr/local/lib/python3.10/dist-packages (from python-dateutil>=2.7->matplotlib==3.6.2->-r ConvolutionalKANs/requirements.txt (line 1)) (1.16.0)\n",
            "Requirement already satisfied: MarkupSafe>=2.0 in /usr/local/lib/python3.10/dist-packages (from jinja2->torch==2.3.0->-r ConvolutionalKANs/requirements.txt (line 6)) (2.1.5)\n",
            "Requirement already satisfied: mpmath<1.4.0,>=1.1.0 in /usr/local/lib/python3.10/dist-packages (from sympy->torch==2.3.0->-r ConvolutionalKANs/requirements.txt (line 6)) (1.3.0)\n"
          ]
        }
      ],
      "source": [
        "!sed -i '/torch==2.3.0+cu118/d' ConvolutionalKANs/requirements.txt\n",
        "!pip install -r ConvolutionalKANs/requirements.txt"
      ]
    },
    {
      "cell_type": "code",
      "execution_count": 5,
      "metadata": {
        "id": "a-td3yfwzemE"
      },
      "outputs": [],
      "source": [
        "import torch\n",
        "import torch.nn as nn\n",
        "import torch.optim as optim\n",
        "import torchvision.transforms as transforms\n",
        "from torchvision import datasets\n",
        "from torch.utils.data import DataLoader, Subset\n",
        "from ConvolutionalKANs.architectures_28x28.CKAN_BN import CKAN_BN\n",
        "from ConvolutionalKANs.architectures_28x28.SimpleModels import SimpleCNN\n",
        "from ConvolutionalKANs.architectures_28x28.ConvNet import ConvNet\n",
        "from ConvolutionalKANs.architectures_28x28.KANConvs_MLP import KANC_MLP\n",
        "from ConvolutionalKANs.architectures_28x28.KKAN import KKAN_Convolutional_Network\n",
        "from ConvolutionalKANs.architectures_28x28.conv_and_kan import NormalConvsKAN"
      ]
    },
    {
      "cell_type": "code",
      "source": [
        "transform = transforms.Compose([transforms.ToTensor(), transforms.Normalize((0.5,), (0.5,))])\n",
        "\n",
        "# Training set\n",
        "train_dataset = datasets.MNIST(root='./data', train=True, download=True, transform=transform)\n",
        "sorted_indices = sorted(range(len(train_dataset)), key=lambda idx: train_dataset.targets[idx].item())\n",
        "subset_indices = sorted_indices[:len(train_dataset)//20]\n",
        "train_subset = Subset(train_dataset, subset_indices)\n",
        "\n",
        "# Test set\n",
        "test_dataset = datasets.MNIST(root='./data', train=False, download=True, transform=transform)\n",
        "test_subset_indices = list(range(len(test_dataset)//10))\n",
        "test_subset = Subset(test_dataset, test_subset_indices)\n",
        "\n",
        "train_loader = DataLoader(train_subset, batch_size=64, shuffle=False)\n",
        "test_loader = DataLoader(test_subset, batch_size=64, shuffle=False)\n",
        "\n",
        "\n",
        "print(f'Lunghezza del dataset di addestramento (subset): {len(train_subset)}')\n",
        "print(f'Lunghezza del dataset di test (subset): {len(test_subset)}')\n"
      ],
      "metadata": {
        "colab": {
          "base_uri": "https://localhost:8080/"
        },
        "id": "NepArtgMuvo3",
        "outputId": "1def6b8f-2fda-423b-fb06-731f01e99cc1"
      },
      "execution_count": 20,
      "outputs": [
        {
          "output_type": "stream",
          "name": "stdout",
          "text": [
            "Lunghezza del dataset di addestramento (subset): 3000\n",
            "Lunghezza del dataset di test (subset): 1000\n"
          ]
        }
      ]
    },
    {
      "cell_type": "code",
      "source": [
        "def train(model, train_loader, optimizer, epoch, criterion):\n",
        "    model.train()\n",
        "    train_loss = 0\n",
        "    for batch_idx, (data, target) in enumerate(train_loader):\n",
        "        optimizer.zero_grad()\n",
        "        output = model(data)\n",
        "        loss = criterion(output, target)\n",
        "        loss.backward()\n",
        "        optimizer.step()\n",
        "        train_loss += loss.item()\n",
        "    avg_loss = train_loss / (batch_idx + 1)\n",
        "    return avg_loss\n",
        "\n",
        "def test(model, test_loader, criterion):\n",
        "    model.eval()\n",
        "    test_loss = 0\n",
        "    correct = 0\n",
        "    with torch.no_grad():\n",
        "        for data, target in test_loader:\n",
        "            output = model(data)\n",
        "            test_loss += criterion(output, target).item()\n",
        "            _, predicted = torch.max(output.data, 1)\n",
        "            correct += (target == predicted).sum().item()\n",
        "    test_loss /= len(test_loader)\n",
        "    accuracy = correct / len(test_loader.dataset)\n",
        "    return test_loss, accuracy\n"
      ],
      "metadata": {
        "id": "jwrKUPn3vyDb"
      },
      "execution_count": 21,
      "outputs": []
    },
    {
      "cell_type": "code",
      "source": [
        "# Ciao :(\n",
        "ckan_model = CKAN_BN()\n",
        "cnn_model = SimpleCNN()\n",
        "\n",
        "\n",
        "criterion = nn.CrossEntropyLoss()\n",
        "ckan_optimizer = optim.Adam(ckan_model.parameters(), lr=0.001)\n",
        "cnn_optimizer = optim.Adam(cnn_model.parameters(), lr=0.001)\n",
        "\n",
        "# CKAN\n",
        "print(\"Training CKAN Model\")\n",
        "for epoch in range(1, 6):\n",
        "    train_loss = train(ckan_model, train_loader, ckan_optimizer, epoch, criterion)\n",
        "    test_loss, accuracy = test(ckan_model, test_loader, criterion)\n",
        "    print(f'End of Epoch {epoch}: Train Loss: {train_loss:.6f}, Test Loss: {test_loss:.4f}, Accuracy: {accuracy:.2%}')\n",
        "\n",
        "# SimpleCNN\n",
        "print(\"Training SimpleCNN Model\")\n",
        "for epoch in range(1, 6):\n",
        "    train_loss = train(cnn_model, train_loader, cnn_optimizer, epoch, criterion)\n",
        "    test_loss, accuracy = test(cnn_model, test_loader, criterion)\n",
        "    print(f'End of Epoch {epoch}: Train Loss: {train_loss:.6f}, Test Loss: {test_loss:.4f}, Accuracy: {accuracy:.2%}')"
      ],
      "metadata": {
        "colab": {
          "base_uri": "https://localhost:8080/"
        },
        "id": "jCXm_Ahav3ON",
        "outputId": "378dc5a4-530f-48f8-f22c-780d0b5a0a0e"
      },
      "execution_count": 22,
      "outputs": [
        {
          "output_type": "stream",
          "name": "stdout",
          "text": [
            "Training CKAN Model\n",
            "End of Epoch 1: Train Loss: 0.050292, Test Loss: 14.0552, Accuracy: 8.50%\n",
            "End of Epoch 2: Train Loss: 0.000000, Test Loss: 21.4268, Accuracy: 8.50%\n",
            "End of Epoch 3: Train Loss: 0.000000, Test Loss: 21.5012, Accuracy: 8.50%\n",
            "End of Epoch 4: Train Loss: 0.000000, Test Loss: 21.6275, Accuracy: 8.50%\n",
            "End of Epoch 5: Train Loss: 0.000000, Test Loss: 21.5829, Accuracy: 8.50%\n",
            "Training SimpleCNN Model\n",
            "End of Epoch 1: Train Loss: 0.861568, Test Loss: 7.1968, Accuracy: 8.50%\n",
            "End of Epoch 2: Train Loss: 0.000325, Test Loss: 9.3860, Accuracy: 8.50%\n",
            "End of Epoch 3: Train Loss: 0.000098, Test Loss: 9.7662, Accuracy: 8.50%\n",
            "End of Epoch 4: Train Loss: 0.000061, Test Loss: 10.2425, Accuracy: 8.50%\n",
            "End of Epoch 5: Train Loss: 0.000034, Test Loss: 10.8066, Accuracy: 8.50%\n"
          ]
        }
      ]
    }
  ]
}