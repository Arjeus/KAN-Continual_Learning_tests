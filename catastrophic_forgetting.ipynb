{
 "cells": [
  {
   "cell_type": "code",
   "execution_count": 40,
   "id": "initial_id",
   "metadata": {
    "collapsed": true,
    "ExecuteTime": {
     "end_time": "2024-06-05T21:33:17.386809Z",
     "start_time": "2024-06-05T21:33:17.373196Z"
    }
   },
   "outputs": [],
   "source": [
    "import torch\n",
    "import torch.nn as nn\n",
    "import torch.optim as optim\n",
    "from torch.utils.data import DataLoader\n",
    "from torchvision import datasets, transforms\n",
    "from kan import KAN"
   ]
  },
  {
   "cell_type": "code",
   "outputs": [],
   "source": [
    "class MLP(nn.Module):\n",
    "    def __init__(self, checkpoint: str | None = None):\n",
    "        super(MLP, self).__init__()\n",
    "        self.fc1 = nn.Linear(28 * 28, 128)\n",
    "        self.fc2 = nn.Linear(128, 64)\n",
    "        self.fc3 = nn.Linear(64, 10)\n",
    "        if checkpoint:\n",
    "            self.load_state_dict(torch.load(checkpoint))\n",
    "            self.eval()\n",
    "\n",
    "    def forward(self, x):\n",
    "        x = x.view(-1, 28 * 28)\n",
    "        x = torch.relu(self.fc1(x))\n",
    "        x = torch.relu(self.fc2(x))\n",
    "        x = self.fc3(x)\n",
    "        return x"
   ],
   "metadata": {
    "collapsed": false,
    "ExecuteTime": {
     "end_time": "2024-06-05T17:53:26.960716Z",
     "start_time": "2024-06-05T17:53:26.954273Z"
    }
   },
   "id": "3b5566e8b305915b",
   "execution_count": 2
  },
  {
   "cell_type": "code",
   "outputs": [],
   "source": [
    "transform = transforms.Compose([transforms.ToTensor(), transforms.Normalize((0.5,), (0.5,))])\n",
    "train_dataset = datasets.MNIST(root='./data', train=True, download=True, transform=transform)\n",
    "sorted_indices = sorted(range(len(train_dataset)//10), key=lambda idx: train_dataset.targets[idx])\n",
    "train_dataset = torch.utils.data.Subset(train_dataset, sorted_indices)\n",
    "test_dataset = datasets.MNIST(root='./data', train=False, download=True, transform=transform)\n",
    "train_dataset = torch.utils.data.Subset(train_dataset, range(len(test_dataset)//10))\n",
    "train_loader = DataLoader(train_dataset, batch_size=64, shuffle=False)\n",
    "test_loader = DataLoader(test_dataset, batch_size=64, shuffle=False)"
   ],
   "metadata": {
    "collapsed": false,
    "ExecuteTime": {
     "end_time": "2024-06-05T21:30:04.586913Z",
     "start_time": "2024-06-05T21:30:04.371892Z"
    }
   },
   "id": "23fa955d4fbcdf84",
   "execution_count": 37
  },
  {
   "cell_type": "code",
   "outputs": [],
   "source": [
    "# Training the model\n",
    "def train(model, checkpoint, epochs=5):\n",
    "    criterion = nn.CrossEntropyLoss()\n",
    "    optimizer = optim.Adam(model.parameters(), lr=0.001)\n",
    "    for epoch in range(epochs):\n",
    "        for images, labels in train_loader:\n",
    "            outputs = model(images)\n",
    "            loss = criterion(outputs, labels)\n",
    "            optimizer.zero_grad()\n",
    "            loss.backward()\n",
    "            optimizer.step()\n",
    "        print(f'Epoch {epoch + 1}, Loss: {loss.item()}')\n",
    "        torch.save(model.state_dict(), checkpoint)"
   ],
   "metadata": {
    "collapsed": false
   },
   "id": "577581d35eb43ea0",
   "execution_count": null
  },
  {
   "cell_type": "code",
   "outputs": [],
   "source": [
    "# Loading model from checkpoint\n",
    "model = MLP(checkpoint='checkpoint/mlp_mnist_no_shuffle.pth')"
   ],
   "metadata": {
    "collapsed": false,
    "ExecuteTime": {
     "end_time": "2024-06-05T17:53:50.992425Z",
     "start_time": "2024-06-05T17:53:50.976388Z"
    }
   },
   "id": "c00c6c82ba3d1d25",
   "execution_count": 4
  },
  {
   "cell_type": "code",
   "outputs": [
    {
     "name": "stdout",
     "output_type": "stream",
     "text": [
      "Accuracy: 10.29%\n",
      "[0, 0, 1, 1, 0, 1, 466, 31, 1656, 7844]\n",
      "10000\n"
     ]
    }
   ],
   "source": [
    "# Evaluating\n",
    "correct = 0\n",
    "total = 0\n",
    "predictions = [0] * 10\n",
    "with torch.no_grad():\n",
    "    for images, labels in test_loader:\n",
    "        outputs = model(images)\n",
    "        _, predicted = torch.max(outputs.data, 1)\n",
    "        total += labels.size(0)\n",
    "        for pred in predicted:\n",
    "            predictions[pred] += 1\n",
    "        correct += (predicted == labels).sum().item()\n",
    "\n",
    "print(f'Accuracy: {100 * correct / total}%')\n",
    "print(predictions)\n",
    "print(sum(predictions))"
   ],
   "metadata": {
    "collapsed": false,
    "ExecuteTime": {
     "end_time": "2024-06-05T18:54:53.645301Z",
     "start_time": "2024-06-05T18:54:50.931161Z"
    }
   },
   "id": "955bffa78a5796bf",
   "execution_count": 8
  },
  {
   "cell_type": "code",
   "outputs": [
    {
     "name": "stdout",
     "output_type": "stream",
     "text": [
      "False\n"
     ]
    },
    {
     "ename": "AssertionError",
     "evalue": "Torch not compiled with CUDA enabled",
     "output_type": "error",
     "traceback": [
      "\u001B[1;31m---------------------------------------------------------------------------\u001B[0m",
      "\u001B[1;31mAssertionError\u001B[0m                            Traceback (most recent call last)",
      "Cell \u001B[1;32mIn[43], line 3\u001B[0m\n\u001B[0;32m      1\u001B[0m \u001B[38;5;28mprint\u001B[39m(torch\u001B[38;5;241m.\u001B[39mcuda\u001B[38;5;241m.\u001B[39mis_available())\n\u001B[0;32m      2\u001B[0m dataset \u001B[38;5;241m=\u001B[39m {\n\u001B[1;32m----> 3\u001B[0m     \u001B[38;5;124m'\u001B[39m\u001B[38;5;124mtrain_input\u001B[39m\u001B[38;5;124m'\u001B[39m: \u001B[43mtorch\u001B[49m\u001B[38;5;241;43m.\u001B[39;49m\u001B[43mstack\u001B[49m\u001B[43m(\u001B[49m\u001B[43m[\u001B[49m\u001B[43mx\u001B[49m\u001B[43m \u001B[49m\u001B[38;5;28;43;01mfor\u001B[39;49;00m\u001B[43m \u001B[49m\u001B[43mx\u001B[49m\u001B[43m,\u001B[49m\u001B[43m \u001B[49m\u001B[43m_\u001B[49m\u001B[43m \u001B[49m\u001B[38;5;129;43;01min\u001B[39;49;00m\u001B[43m \u001B[49m\u001B[43mtrain_dataset\u001B[49m\u001B[43m]\u001B[49m\u001B[43m)\u001B[49m\u001B[38;5;241;43m.\u001B[39;49m\u001B[43mto\u001B[49m\u001B[43m(\u001B[49m\u001B[38;5;124;43m'\u001B[39;49m\u001B[38;5;124;43mcuda\u001B[39;49m\u001B[38;5;124;43m'\u001B[39;49m\u001B[43m)\u001B[49m,\n\u001B[0;32m      4\u001B[0m     \u001B[38;5;124m'\u001B[39m\u001B[38;5;124mtrain_label\u001B[39m\u001B[38;5;124m'\u001B[39m: torch\u001B[38;5;241m.\u001B[39mtensor([x \u001B[38;5;28;01mfor\u001B[39;00m _, x \u001B[38;5;129;01min\u001B[39;00m train_dataset])\u001B[38;5;241m.\u001B[39mto(\u001B[38;5;124m'\u001B[39m\u001B[38;5;124mcuda\u001B[39m\u001B[38;5;124m'\u001B[39m),\n\u001B[0;32m      5\u001B[0m     \u001B[38;5;124m'\u001B[39m\u001B[38;5;124mtest_input\u001B[39m\u001B[38;5;124m'\u001B[39m: torch\u001B[38;5;241m.\u001B[39mstack([x \u001B[38;5;28;01mfor\u001B[39;00m x, _ \u001B[38;5;129;01min\u001B[39;00m test_dataset])\u001B[38;5;241m.\u001B[39mto(\u001B[38;5;124m'\u001B[39m\u001B[38;5;124mcuda\u001B[39m\u001B[38;5;124m'\u001B[39m),\n\u001B[0;32m      6\u001B[0m     \u001B[38;5;124m'\u001B[39m\u001B[38;5;124mtest_label\u001B[39m\u001B[38;5;124m'\u001B[39m: torch\u001B[38;5;241m.\u001B[39mtensor([x \u001B[38;5;28;01mfor\u001B[39;00m _, x \u001B[38;5;129;01min\u001B[39;00m test_dataset])\u001B[38;5;241m.\u001B[39mto(\u001B[38;5;124m'\u001B[39m\u001B[38;5;124mcuda\u001B[39m\u001B[38;5;124m'\u001B[39m)\n\u001B[0;32m      7\u001B[0m }\n\u001B[0;32m      8\u001B[0m dataset[\u001B[38;5;124m'\u001B[39m\u001B[38;5;124mtrain_input\u001B[39m\u001B[38;5;124m'\u001B[39m] \u001B[38;5;241m=\u001B[39m dataset[\u001B[38;5;124m'\u001B[39m\u001B[38;5;124mtrain_input\u001B[39m\u001B[38;5;124m'\u001B[39m]\u001B[38;5;241m.\u001B[39mview(dataset[\u001B[38;5;124m'\u001B[39m\u001B[38;5;124mtrain_input\u001B[39m\u001B[38;5;124m'\u001B[39m]\u001B[38;5;241m.\u001B[39mshape[\u001B[38;5;241m0\u001B[39m], \u001B[38;5;241m-\u001B[39m\u001B[38;5;241m1\u001B[39m)\n\u001B[0;32m      9\u001B[0m dataset[\u001B[38;5;124m'\u001B[39m\u001B[38;5;124mtrain_label\u001B[39m\u001B[38;5;124m'\u001B[39m] \u001B[38;5;241m=\u001B[39m dataset[\u001B[38;5;124m'\u001B[39m\u001B[38;5;124mtrain_label\u001B[39m\u001B[38;5;124m'\u001B[39m][:, \u001B[38;5;28;01mNone\u001B[39;00m]\n",
      "File \u001B[1;32m~\\AppData\\Local\\Programs\\Python\\Python310\\lib\\site-packages\\torch\\cuda\\__init__.py:284\u001B[0m, in \u001B[0;36m_lazy_init\u001B[1;34m()\u001B[0m\n\u001B[0;32m    279\u001B[0m     \u001B[38;5;28;01mraise\u001B[39;00m \u001B[38;5;167;01mRuntimeError\u001B[39;00m(\n\u001B[0;32m    280\u001B[0m         \u001B[38;5;124m\"\u001B[39m\u001B[38;5;124mCannot re-initialize CUDA in forked subprocess. To use CUDA with \u001B[39m\u001B[38;5;124m\"\u001B[39m\n\u001B[0;32m    281\u001B[0m         \u001B[38;5;124m\"\u001B[39m\u001B[38;5;124mmultiprocessing, you must use the \u001B[39m\u001B[38;5;124m'\u001B[39m\u001B[38;5;124mspawn\u001B[39m\u001B[38;5;124m'\u001B[39m\u001B[38;5;124m start method\u001B[39m\u001B[38;5;124m\"\u001B[39m\n\u001B[0;32m    282\u001B[0m     )\n\u001B[0;32m    283\u001B[0m \u001B[38;5;28;01mif\u001B[39;00m \u001B[38;5;129;01mnot\u001B[39;00m \u001B[38;5;28mhasattr\u001B[39m(torch\u001B[38;5;241m.\u001B[39m_C, \u001B[38;5;124m\"\u001B[39m\u001B[38;5;124m_cuda_getDeviceCount\u001B[39m\u001B[38;5;124m\"\u001B[39m):\n\u001B[1;32m--> 284\u001B[0m     \u001B[38;5;28;01mraise\u001B[39;00m \u001B[38;5;167;01mAssertionError\u001B[39;00m(\u001B[38;5;124m\"\u001B[39m\u001B[38;5;124mTorch not compiled with CUDA enabled\u001B[39m\u001B[38;5;124m\"\u001B[39m)\n\u001B[0;32m    285\u001B[0m \u001B[38;5;28;01mif\u001B[39;00m _cudart \u001B[38;5;129;01mis\u001B[39;00m \u001B[38;5;28;01mNone\u001B[39;00m:\n\u001B[0;32m    286\u001B[0m     \u001B[38;5;28;01mraise\u001B[39;00m \u001B[38;5;167;01mAssertionError\u001B[39;00m(\n\u001B[0;32m    287\u001B[0m         \u001B[38;5;124m\"\u001B[39m\u001B[38;5;124mlibcudart functions unavailable. It looks like you have a broken build?\u001B[39m\u001B[38;5;124m\"\u001B[39m\n\u001B[0;32m    288\u001B[0m     )\n",
      "\u001B[1;31mAssertionError\u001B[0m: Torch not compiled with CUDA enabled"
     ]
    }
   ],
   "source": [
    "print(torch.cuda.is_available())\n",
    "dataset = {\n",
    "    'train_input': torch.stack([x for x, _ in train_dataset]).to('cuda'),\n",
    "    'train_label': torch.tensor([x for _, x in train_dataset]).to('cuda'),\n",
    "    'test_input': torch.stack([x for x, _ in test_dataset]).to('cuda'),\n",
    "    'test_label': torch.tensor([x for _, x in test_dataset]).to('cuda')\n",
    "}\n",
    "dataset['train_input'] = dataset['train_input'].view(dataset['train_input'].shape[0], -1)\n",
    "dataset['train_label'] = dataset['train_label'][:, None]\n",
    "dataset['test_input'] = dataset['test_input'].view(dataset['test_input'].shape[0], -1)\n",
    "dataset['test_label'] = dataset['test_label'][:, None]\n",
    "dataset['train_input'].shape, dataset['train_label'].shape"
   ],
   "metadata": {
    "collapsed": false,
    "ExecuteTime": {
     "end_time": "2024-06-05T21:35:18.827546Z",
     "start_time": "2024-06-05T21:35:18.560461Z"
    }
   },
   "id": "4fd7b4fe2f6b1fad",
   "execution_count": 43
  },
  {
   "cell_type": "code",
   "outputs": [
    {
     "name": "stderr",
     "output_type": "stream",
     "text": [
      "description:   0%|                                                            | 0/5 [02:01<?, ?it/s]\n"
     ]
    },
    {
     "ename": "KeyboardInterrupt",
     "evalue": "",
     "output_type": "error",
     "traceback": [
      "\u001B[1;31m---------------------------------------------------------------------------\u001B[0m",
      "\u001B[1;31mKeyboardInterrupt\u001B[0m                         Traceback (most recent call last)",
      "Cell \u001B[1;32mIn[39], line 2\u001B[0m\n\u001B[0;32m      1\u001B[0m model \u001B[38;5;241m=\u001B[39m KAN(width\u001B[38;5;241m=\u001B[39m[\u001B[38;5;241m28\u001B[39m \u001B[38;5;241m*\u001B[39m \u001B[38;5;241m28\u001B[39m, \u001B[38;5;241m10\u001B[39m, \u001B[38;5;241m1\u001B[39m], grid\u001B[38;5;241m=\u001B[39m\u001B[38;5;241m4\u001B[39m, k\u001B[38;5;241m=\u001B[39m\u001B[38;5;241m3\u001B[39m)\n\u001B[1;32m----> 2\u001B[0m \u001B[43mmodel\u001B[49m\u001B[38;5;241;43m.\u001B[39;49m\u001B[43mtrain\u001B[49m\u001B[43m(\u001B[49m\u001B[43mdataset\u001B[49m\u001B[43m,\u001B[49m\u001B[43m \u001B[49m\u001B[43mopt\u001B[49m\u001B[38;5;241;43m=\u001B[39;49m\u001B[38;5;124;43m\"\u001B[39;49m\u001B[38;5;124;43mLBFGS\u001B[39;49m\u001B[38;5;124;43m\"\u001B[39;49m\u001B[43m,\u001B[49m\u001B[43m \u001B[49m\u001B[43msteps\u001B[49m\u001B[38;5;241;43m=\u001B[39;49m\u001B[38;5;241;43m5\u001B[39;49m\u001B[43m,\u001B[49m\u001B[43m \u001B[49m\u001B[43mlamb\u001B[49m\u001B[38;5;241;43m=\u001B[39;49m\u001B[38;5;241;43m0.01\u001B[39;49m\u001B[43m)\u001B[49m\n\u001B[0;32m      3\u001B[0m model\u001B[38;5;241m.\u001B[39mplot()\n",
      "File \u001B[1;32m~\\PycharmProjects\\KAN_tests\\kan\\KAN.py:942\u001B[0m, in \u001B[0;36mKAN.train\u001B[1;34m(self, dataset, opt, steps, log, lamb, lamb_l1, lamb_entropy, lamb_coef, lamb_coefdiff, update_grid, grid_update_num, loss_fn, lr, stop_grid_update_step, batch, small_mag_threshold, small_reg_factor, metrics, sglr_avoid, save_fig, in_vars, out_vars, beta, save_fig_freq, img_folder, device)\u001B[0m\n\u001B[0;32m    939\u001B[0m     loss\u001B[38;5;241m.\u001B[39mbackward()\n\u001B[0;32m    940\u001B[0m     optimizer\u001B[38;5;241m.\u001B[39mstep()\n\u001B[1;32m--> 942\u001B[0m test_loss \u001B[38;5;241m=\u001B[39m loss_fn_eval(\u001B[38;5;28;43mself\u001B[39;49m\u001B[38;5;241;43m.\u001B[39;49m\u001B[43mforward\u001B[49m\u001B[43m(\u001B[49m\u001B[43mdataset\u001B[49m\u001B[43m[\u001B[49m\u001B[38;5;124;43m'\u001B[39;49m\u001B[38;5;124;43mtest_input\u001B[39;49m\u001B[38;5;124;43m'\u001B[39;49m\u001B[43m]\u001B[49m\u001B[43m[\u001B[49m\u001B[43mtest_id\u001B[49m\u001B[43m]\u001B[49m\u001B[38;5;241;43m.\u001B[39;49m\u001B[43mto\u001B[49m\u001B[43m(\u001B[49m\u001B[43mdevice\u001B[49m\u001B[43m)\u001B[49m\u001B[43m)\u001B[49m,\n\u001B[0;32m    943\u001B[0m                          dataset[\u001B[38;5;124m'\u001B[39m\u001B[38;5;124mtest_label\u001B[39m\u001B[38;5;124m'\u001B[39m][test_id]\u001B[38;5;241m.\u001B[39mto(device))\n\u001B[0;32m    945\u001B[0m \u001B[38;5;28;01mif\u001B[39;00m _ \u001B[38;5;241m%\u001B[39m log \u001B[38;5;241m==\u001B[39m \u001B[38;5;241m0\u001B[39m:\n\u001B[0;32m    946\u001B[0m     pbar\u001B[38;5;241m.\u001B[39mset_description(\u001B[38;5;124m\"\u001B[39m\u001B[38;5;124mtrain loss: \u001B[39m\u001B[38;5;132;01m%.2e\u001B[39;00m\u001B[38;5;124m | test loss: \u001B[39m\u001B[38;5;132;01m%.2e\u001B[39;00m\u001B[38;5;124m | reg: \u001B[39m\u001B[38;5;132;01m%.2e\u001B[39;00m\u001B[38;5;124m \u001B[39m\u001B[38;5;124m\"\u001B[39m \u001B[38;5;241m%\u001B[39m (\n\u001B[0;32m    947\u001B[0m     torch\u001B[38;5;241m.\u001B[39msqrt(train_loss)\u001B[38;5;241m.\u001B[39mcpu()\u001B[38;5;241m.\u001B[39mdetach()\u001B[38;5;241m.\u001B[39mnumpy(), torch\u001B[38;5;241m.\u001B[39msqrt(test_loss)\u001B[38;5;241m.\u001B[39mcpu()\u001B[38;5;241m.\u001B[39mdetach()\u001B[38;5;241m.\u001B[39mnumpy(),\n\u001B[0;32m    948\u001B[0m     reg_\u001B[38;5;241m.\u001B[39mcpu()\u001B[38;5;241m.\u001B[39mdetach()\u001B[38;5;241m.\u001B[39mnumpy()))\n",
      "File \u001B[1;32m~\\PycharmProjects\\KAN_tests\\kan\\KAN.py:316\u001B[0m, in \u001B[0;36mKAN.forward\u001B[1;34m(self, x)\u001B[0m\n\u001B[0;32m    312\u001B[0m \u001B[38;5;28mself\u001B[39m\u001B[38;5;241m.\u001B[39macts\u001B[38;5;241m.\u001B[39mappend(x)  \u001B[38;5;66;03m# acts shape: (batch, width[l])\u001B[39;00m\n\u001B[0;32m    314\u001B[0m \u001B[38;5;28;01mfor\u001B[39;00m l \u001B[38;5;129;01min\u001B[39;00m \u001B[38;5;28mrange\u001B[39m(\u001B[38;5;28mself\u001B[39m\u001B[38;5;241m.\u001B[39mdepth):\n\u001B[1;32m--> 316\u001B[0m     x_numerical, preacts, postacts_numerical, postspline \u001B[38;5;241m=\u001B[39m \u001B[38;5;28;43mself\u001B[39;49m\u001B[38;5;241;43m.\u001B[39;49m\u001B[43mact_fun\u001B[49m\u001B[43m[\u001B[49m\u001B[43ml\u001B[49m\u001B[43m]\u001B[49m\u001B[43m(\u001B[49m\u001B[43mx\u001B[49m\u001B[43m)\u001B[49m\n\u001B[0;32m    318\u001B[0m     \u001B[38;5;28;01mif\u001B[39;00m \u001B[38;5;28mself\u001B[39m\u001B[38;5;241m.\u001B[39msymbolic_enabled \u001B[38;5;241m==\u001B[39m \u001B[38;5;28;01mTrue\u001B[39;00m:\n\u001B[0;32m    319\u001B[0m         x_symbolic, postacts_symbolic \u001B[38;5;241m=\u001B[39m \u001B[38;5;28mself\u001B[39m\u001B[38;5;241m.\u001B[39msymbolic_fun[l](x)\n",
      "File \u001B[1;32m~\\AppData\\Local\\Programs\\Python\\Python310\\lib\\site-packages\\torch\\nn\\modules\\module.py:1532\u001B[0m, in \u001B[0;36mModule._wrapped_call_impl\u001B[1;34m(self, *args, **kwargs)\u001B[0m\n\u001B[0;32m   1530\u001B[0m     \u001B[38;5;28;01mreturn\u001B[39;00m \u001B[38;5;28mself\u001B[39m\u001B[38;5;241m.\u001B[39m_compiled_call_impl(\u001B[38;5;241m*\u001B[39margs, \u001B[38;5;241m*\u001B[39m\u001B[38;5;241m*\u001B[39mkwargs)  \u001B[38;5;66;03m# type: ignore[misc]\u001B[39;00m\n\u001B[0;32m   1531\u001B[0m \u001B[38;5;28;01melse\u001B[39;00m:\n\u001B[1;32m-> 1532\u001B[0m     \u001B[38;5;28;01mreturn\u001B[39;00m \u001B[38;5;28mself\u001B[39m\u001B[38;5;241m.\u001B[39m_call_impl(\u001B[38;5;241m*\u001B[39margs, \u001B[38;5;241m*\u001B[39m\u001B[38;5;241m*\u001B[39mkwargs)\n",
      "File \u001B[1;32m~\\AppData\\Local\\Programs\\Python\\Python310\\lib\\site-packages\\torch\\nn\\modules\\module.py:1541\u001B[0m, in \u001B[0;36mModule._call_impl\u001B[1;34m(self, *args, **kwargs)\u001B[0m\n\u001B[0;32m   1536\u001B[0m \u001B[38;5;66;03m# If we don't have any hooks, we want to skip the rest of the logic in\u001B[39;00m\n\u001B[0;32m   1537\u001B[0m \u001B[38;5;66;03m# this function, and just call forward.\u001B[39;00m\n\u001B[0;32m   1538\u001B[0m \u001B[38;5;28;01mif\u001B[39;00m \u001B[38;5;129;01mnot\u001B[39;00m (\u001B[38;5;28mself\u001B[39m\u001B[38;5;241m.\u001B[39m_backward_hooks \u001B[38;5;129;01mor\u001B[39;00m \u001B[38;5;28mself\u001B[39m\u001B[38;5;241m.\u001B[39m_backward_pre_hooks \u001B[38;5;129;01mor\u001B[39;00m \u001B[38;5;28mself\u001B[39m\u001B[38;5;241m.\u001B[39m_forward_hooks \u001B[38;5;129;01mor\u001B[39;00m \u001B[38;5;28mself\u001B[39m\u001B[38;5;241m.\u001B[39m_forward_pre_hooks\n\u001B[0;32m   1539\u001B[0m         \u001B[38;5;129;01mor\u001B[39;00m _global_backward_pre_hooks \u001B[38;5;129;01mor\u001B[39;00m _global_backward_hooks\n\u001B[0;32m   1540\u001B[0m         \u001B[38;5;129;01mor\u001B[39;00m _global_forward_hooks \u001B[38;5;129;01mor\u001B[39;00m _global_forward_pre_hooks):\n\u001B[1;32m-> 1541\u001B[0m     \u001B[38;5;28;01mreturn\u001B[39;00m forward_call(\u001B[38;5;241m*\u001B[39margs, \u001B[38;5;241m*\u001B[39m\u001B[38;5;241m*\u001B[39mkwargs)\n\u001B[0;32m   1543\u001B[0m \u001B[38;5;28;01mtry\u001B[39;00m:\n\u001B[0;32m   1544\u001B[0m     result \u001B[38;5;241m=\u001B[39m \u001B[38;5;28;01mNone\u001B[39;00m\n",
      "File \u001B[1;32m~\\PycharmProjects\\KAN_tests\\kan\\KANLayer.py:173\u001B[0m, in \u001B[0;36mKANLayer.forward\u001B[1;34m(self, x)\u001B[0m\n\u001B[0;32m    171\u001B[0m preacts \u001B[38;5;241m=\u001B[39m x\u001B[38;5;241m.\u001B[39mpermute(\u001B[38;5;241m1\u001B[39m, \u001B[38;5;241m0\u001B[39m)\u001B[38;5;241m.\u001B[39mclone()\u001B[38;5;241m.\u001B[39mreshape(batch, \u001B[38;5;28mself\u001B[39m\u001B[38;5;241m.\u001B[39mout_dim, \u001B[38;5;28mself\u001B[39m\u001B[38;5;241m.\u001B[39min_dim)\n\u001B[0;32m    172\u001B[0m base \u001B[38;5;241m=\u001B[39m \u001B[38;5;28mself\u001B[39m\u001B[38;5;241m.\u001B[39mbase_fun(x)\u001B[38;5;241m.\u001B[39mpermute(\u001B[38;5;241m1\u001B[39m, \u001B[38;5;241m0\u001B[39m)  \u001B[38;5;66;03m# shape (batch, size)\u001B[39;00m\n\u001B[1;32m--> 173\u001B[0m y \u001B[38;5;241m=\u001B[39m \u001B[43mcoef2curve\u001B[49m\u001B[43m(\u001B[49m\u001B[43mx_eval\u001B[49m\u001B[38;5;241;43m=\u001B[39;49m\u001B[43mx\u001B[49m\u001B[43m,\u001B[49m\u001B[43m \u001B[49m\u001B[43mgrid\u001B[49m\u001B[38;5;241;43m=\u001B[39;49m\u001B[38;5;28;43mself\u001B[39;49m\u001B[38;5;241;43m.\u001B[39;49m\u001B[43mgrid\u001B[49m\u001B[43m[\u001B[49m\u001B[38;5;28;43mself\u001B[39;49m\u001B[38;5;241;43m.\u001B[39;49m\u001B[43mweight_sharing\u001B[49m\u001B[43m]\u001B[49m\u001B[43m,\u001B[49m\u001B[43m \u001B[49m\u001B[43mcoef\u001B[49m\u001B[38;5;241;43m=\u001B[39;49m\u001B[38;5;28;43mself\u001B[39;49m\u001B[38;5;241;43m.\u001B[39;49m\u001B[43mcoef\u001B[49m\u001B[43m[\u001B[49m\u001B[38;5;28;43mself\u001B[39;49m\u001B[38;5;241;43m.\u001B[39;49m\u001B[43mweight_sharing\u001B[49m\u001B[43m]\u001B[49m\u001B[43m,\u001B[49m\u001B[43m \u001B[49m\u001B[43mk\u001B[49m\u001B[38;5;241;43m=\u001B[39;49m\u001B[38;5;28;43mself\u001B[39;49m\u001B[38;5;241;43m.\u001B[39;49m\u001B[43mk\u001B[49m\u001B[43m,\u001B[49m\u001B[43m \u001B[49m\u001B[43mdevice\u001B[49m\u001B[38;5;241;43m=\u001B[39;49m\u001B[38;5;28;43mself\u001B[39;49m\u001B[38;5;241;43m.\u001B[39;49m\u001B[43mdevice\u001B[49m\u001B[43m)\u001B[49m  \u001B[38;5;66;03m# shape (size, batch)\u001B[39;00m\n\u001B[0;32m    174\u001B[0m y \u001B[38;5;241m=\u001B[39m y\u001B[38;5;241m.\u001B[39mpermute(\u001B[38;5;241m1\u001B[39m, \u001B[38;5;241m0\u001B[39m)  \u001B[38;5;66;03m# shape (batch, size)\u001B[39;00m\n\u001B[0;32m    175\u001B[0m postspline \u001B[38;5;241m=\u001B[39m y\u001B[38;5;241m.\u001B[39mclone()\u001B[38;5;241m.\u001B[39mreshape(batch, \u001B[38;5;28mself\u001B[39m\u001B[38;5;241m.\u001B[39mout_dim, \u001B[38;5;28mself\u001B[39m\u001B[38;5;241m.\u001B[39min_dim)\n",
      "File \u001B[1;32m~\\PycharmProjects\\KAN_tests\\kan\\spline.py:103\u001B[0m, in \u001B[0;36mcoef2curve\u001B[1;34m(x_eval, grid, coef, k, device)\u001B[0m\n\u001B[0;32m    101\u001B[0m \u001B[38;5;28;01mif\u001B[39;00m coef\u001B[38;5;241m.\u001B[39mdtype \u001B[38;5;241m!=\u001B[39m x_eval\u001B[38;5;241m.\u001B[39mdtype:\n\u001B[0;32m    102\u001B[0m     coef \u001B[38;5;241m=\u001B[39m coef\u001B[38;5;241m.\u001B[39mto(x_eval\u001B[38;5;241m.\u001B[39mdtype)\n\u001B[1;32m--> 103\u001B[0m y_eval \u001B[38;5;241m=\u001B[39m torch\u001B[38;5;241m.\u001B[39meinsum(\u001B[38;5;124m'\u001B[39m\u001B[38;5;124mij,ijk->ik\u001B[39m\u001B[38;5;124m'\u001B[39m, coef, \u001B[43mB_batch\u001B[49m\u001B[43m(\u001B[49m\u001B[43mx_eval\u001B[49m\u001B[43m,\u001B[49m\u001B[43m \u001B[49m\u001B[43mgrid\u001B[49m\u001B[43m,\u001B[49m\u001B[43m \u001B[49m\u001B[43mk\u001B[49m\u001B[43m,\u001B[49m\u001B[43m \u001B[49m\u001B[43mdevice\u001B[49m\u001B[38;5;241;43m=\u001B[39;49m\u001B[43mdevice\u001B[49m\u001B[43m)\u001B[49m)\n\u001B[0;32m    104\u001B[0m \u001B[38;5;28;01mreturn\u001B[39;00m y_eval\n",
      "File \u001B[1;32m~\\PycharmProjects\\KAN_tests\\kan\\spline.py:59\u001B[0m, in \u001B[0;36mB_batch\u001B[1;34m(x, grid, k, extend, device)\u001B[0m\n\u001B[0;32m     57\u001B[0m     value \u001B[38;5;241m=\u001B[39m (x \u001B[38;5;241m>\u001B[39m\u001B[38;5;241m=\u001B[39m grid[:, :\u001B[38;5;241m-\u001B[39m\u001B[38;5;241m1\u001B[39m]) \u001B[38;5;241m*\u001B[39m (x \u001B[38;5;241m<\u001B[39m grid[:, \u001B[38;5;241m1\u001B[39m:])\n\u001B[0;32m     58\u001B[0m \u001B[38;5;28;01melse\u001B[39;00m:\n\u001B[1;32m---> 59\u001B[0m     B_km1 \u001B[38;5;241m=\u001B[39m \u001B[43mB_batch\u001B[49m\u001B[43m(\u001B[49m\u001B[43mx\u001B[49m\u001B[43m[\u001B[49m\u001B[43m:\u001B[49m\u001B[43m,\u001B[49m\u001B[43m \u001B[49m\u001B[38;5;241;43m0\u001B[39;49m\u001B[43m]\u001B[49m\u001B[43m,\u001B[49m\u001B[43m \u001B[49m\u001B[43mgrid\u001B[49m\u001B[38;5;241;43m=\u001B[39;49m\u001B[43mgrid\u001B[49m\u001B[43m[\u001B[49m\u001B[43m:\u001B[49m\u001B[43m,\u001B[49m\u001B[43m \u001B[49m\u001B[43m:\u001B[49m\u001B[43m,\u001B[49m\u001B[43m \u001B[49m\u001B[38;5;241;43m0\u001B[39;49m\u001B[43m]\u001B[49m\u001B[43m,\u001B[49m\u001B[43m \u001B[49m\u001B[43mk\u001B[49m\u001B[38;5;241;43m=\u001B[39;49m\u001B[43mk\u001B[49m\u001B[43m \u001B[49m\u001B[38;5;241;43m-\u001B[39;49m\u001B[43m \u001B[49m\u001B[38;5;241;43m1\u001B[39;49m\u001B[43m,\u001B[49m\u001B[43m \u001B[49m\u001B[43mextend\u001B[49m\u001B[38;5;241;43m=\u001B[39;49m\u001B[38;5;28;43;01mFalse\u001B[39;49;00m\u001B[43m,\u001B[49m\u001B[43m \u001B[49m\u001B[43mdevice\u001B[49m\u001B[38;5;241;43m=\u001B[39;49m\u001B[43mdevice\u001B[49m\u001B[43m)\u001B[49m\n\u001B[0;32m     60\u001B[0m     value \u001B[38;5;241m=\u001B[39m (x \u001B[38;5;241m-\u001B[39m grid[:, :\u001B[38;5;241m-\u001B[39m(k \u001B[38;5;241m+\u001B[39m \u001B[38;5;241m1\u001B[39m)]) \u001B[38;5;241m/\u001B[39m (grid[:, k:\u001B[38;5;241m-\u001B[39m\u001B[38;5;241m1\u001B[39m] \u001B[38;5;241m-\u001B[39m grid[:, :\u001B[38;5;241m-\u001B[39m(k \u001B[38;5;241m+\u001B[39m \u001B[38;5;241m1\u001B[39m)]) \u001B[38;5;241m*\u001B[39m B_km1[:, :\u001B[38;5;241m-\u001B[39m\u001B[38;5;241m1\u001B[39m] \u001B[38;5;241m+\u001B[39m (\n\u001B[0;32m     61\u001B[0m                 grid[:, k \u001B[38;5;241m+\u001B[39m \u001B[38;5;241m1\u001B[39m:] \u001B[38;5;241m-\u001B[39m x) \u001B[38;5;241m/\u001B[39m (grid[:, k \u001B[38;5;241m+\u001B[39m \u001B[38;5;241m1\u001B[39m:] \u001B[38;5;241m-\u001B[39m grid[:, \u001B[38;5;241m1\u001B[39m:(\u001B[38;5;241m-\u001B[39mk)]) \u001B[38;5;241m*\u001B[39m B_km1[:, \u001B[38;5;241m1\u001B[39m:]\n\u001B[0;32m     62\u001B[0m \u001B[38;5;28;01mreturn\u001B[39;00m value\n",
      "File \u001B[1;32m~\\PycharmProjects\\KAN_tests\\kan\\spline.py:59\u001B[0m, in \u001B[0;36mB_batch\u001B[1;34m(x, grid, k, extend, device)\u001B[0m\n\u001B[0;32m     57\u001B[0m     value \u001B[38;5;241m=\u001B[39m (x \u001B[38;5;241m>\u001B[39m\u001B[38;5;241m=\u001B[39m grid[:, :\u001B[38;5;241m-\u001B[39m\u001B[38;5;241m1\u001B[39m]) \u001B[38;5;241m*\u001B[39m (x \u001B[38;5;241m<\u001B[39m grid[:, \u001B[38;5;241m1\u001B[39m:])\n\u001B[0;32m     58\u001B[0m \u001B[38;5;28;01melse\u001B[39;00m:\n\u001B[1;32m---> 59\u001B[0m     B_km1 \u001B[38;5;241m=\u001B[39m \u001B[43mB_batch\u001B[49m\u001B[43m(\u001B[49m\u001B[43mx\u001B[49m\u001B[43m[\u001B[49m\u001B[43m:\u001B[49m\u001B[43m,\u001B[49m\u001B[43m \u001B[49m\u001B[38;5;241;43m0\u001B[39;49m\u001B[43m]\u001B[49m\u001B[43m,\u001B[49m\u001B[43m \u001B[49m\u001B[43mgrid\u001B[49m\u001B[38;5;241;43m=\u001B[39;49m\u001B[43mgrid\u001B[49m\u001B[43m[\u001B[49m\u001B[43m:\u001B[49m\u001B[43m,\u001B[49m\u001B[43m \u001B[49m\u001B[43m:\u001B[49m\u001B[43m,\u001B[49m\u001B[43m \u001B[49m\u001B[38;5;241;43m0\u001B[39;49m\u001B[43m]\u001B[49m\u001B[43m,\u001B[49m\u001B[43m \u001B[49m\u001B[43mk\u001B[49m\u001B[38;5;241;43m=\u001B[39;49m\u001B[43mk\u001B[49m\u001B[43m \u001B[49m\u001B[38;5;241;43m-\u001B[39;49m\u001B[43m \u001B[49m\u001B[38;5;241;43m1\u001B[39;49m\u001B[43m,\u001B[49m\u001B[43m \u001B[49m\u001B[43mextend\u001B[49m\u001B[38;5;241;43m=\u001B[39;49m\u001B[38;5;28;43;01mFalse\u001B[39;49;00m\u001B[43m,\u001B[49m\u001B[43m \u001B[49m\u001B[43mdevice\u001B[49m\u001B[38;5;241;43m=\u001B[39;49m\u001B[43mdevice\u001B[49m\u001B[43m)\u001B[49m\n\u001B[0;32m     60\u001B[0m     value \u001B[38;5;241m=\u001B[39m (x \u001B[38;5;241m-\u001B[39m grid[:, :\u001B[38;5;241m-\u001B[39m(k \u001B[38;5;241m+\u001B[39m \u001B[38;5;241m1\u001B[39m)]) \u001B[38;5;241m/\u001B[39m (grid[:, k:\u001B[38;5;241m-\u001B[39m\u001B[38;5;241m1\u001B[39m] \u001B[38;5;241m-\u001B[39m grid[:, :\u001B[38;5;241m-\u001B[39m(k \u001B[38;5;241m+\u001B[39m \u001B[38;5;241m1\u001B[39m)]) \u001B[38;5;241m*\u001B[39m B_km1[:, :\u001B[38;5;241m-\u001B[39m\u001B[38;5;241m1\u001B[39m] \u001B[38;5;241m+\u001B[39m (\n\u001B[0;32m     61\u001B[0m                 grid[:, k \u001B[38;5;241m+\u001B[39m \u001B[38;5;241m1\u001B[39m:] \u001B[38;5;241m-\u001B[39m x) \u001B[38;5;241m/\u001B[39m (grid[:, k \u001B[38;5;241m+\u001B[39m \u001B[38;5;241m1\u001B[39m:] \u001B[38;5;241m-\u001B[39m grid[:, \u001B[38;5;241m1\u001B[39m:(\u001B[38;5;241m-\u001B[39mk)]) \u001B[38;5;241m*\u001B[39m B_km1[:, \u001B[38;5;241m1\u001B[39m:]\n\u001B[0;32m     62\u001B[0m \u001B[38;5;28;01mreturn\u001B[39;00m value\n",
      "File \u001B[1;32m~\\PycharmProjects\\KAN_tests\\kan\\spline.py:59\u001B[0m, in \u001B[0;36mB_batch\u001B[1;34m(x, grid, k, extend, device)\u001B[0m\n\u001B[0;32m     57\u001B[0m     value \u001B[38;5;241m=\u001B[39m (x \u001B[38;5;241m>\u001B[39m\u001B[38;5;241m=\u001B[39m grid[:, :\u001B[38;5;241m-\u001B[39m\u001B[38;5;241m1\u001B[39m]) \u001B[38;5;241m*\u001B[39m (x \u001B[38;5;241m<\u001B[39m grid[:, \u001B[38;5;241m1\u001B[39m:])\n\u001B[0;32m     58\u001B[0m \u001B[38;5;28;01melse\u001B[39;00m:\n\u001B[1;32m---> 59\u001B[0m     B_km1 \u001B[38;5;241m=\u001B[39m \u001B[43mB_batch\u001B[49m\u001B[43m(\u001B[49m\u001B[43mx\u001B[49m\u001B[43m[\u001B[49m\u001B[43m:\u001B[49m\u001B[43m,\u001B[49m\u001B[43m \u001B[49m\u001B[38;5;241;43m0\u001B[39;49m\u001B[43m]\u001B[49m\u001B[43m,\u001B[49m\u001B[43m \u001B[49m\u001B[43mgrid\u001B[49m\u001B[38;5;241;43m=\u001B[39;49m\u001B[43mgrid\u001B[49m\u001B[43m[\u001B[49m\u001B[43m:\u001B[49m\u001B[43m,\u001B[49m\u001B[43m \u001B[49m\u001B[43m:\u001B[49m\u001B[43m,\u001B[49m\u001B[43m \u001B[49m\u001B[38;5;241;43m0\u001B[39;49m\u001B[43m]\u001B[49m\u001B[43m,\u001B[49m\u001B[43m \u001B[49m\u001B[43mk\u001B[49m\u001B[38;5;241;43m=\u001B[39;49m\u001B[43mk\u001B[49m\u001B[43m \u001B[49m\u001B[38;5;241;43m-\u001B[39;49m\u001B[43m \u001B[49m\u001B[38;5;241;43m1\u001B[39;49m\u001B[43m,\u001B[49m\u001B[43m \u001B[49m\u001B[43mextend\u001B[49m\u001B[38;5;241;43m=\u001B[39;49m\u001B[38;5;28;43;01mFalse\u001B[39;49;00m\u001B[43m,\u001B[49m\u001B[43m \u001B[49m\u001B[43mdevice\u001B[49m\u001B[38;5;241;43m=\u001B[39;49m\u001B[43mdevice\u001B[49m\u001B[43m)\u001B[49m\n\u001B[0;32m     60\u001B[0m     value \u001B[38;5;241m=\u001B[39m (x \u001B[38;5;241m-\u001B[39m grid[:, :\u001B[38;5;241m-\u001B[39m(k \u001B[38;5;241m+\u001B[39m \u001B[38;5;241m1\u001B[39m)]) \u001B[38;5;241m/\u001B[39m (grid[:, k:\u001B[38;5;241m-\u001B[39m\u001B[38;5;241m1\u001B[39m] \u001B[38;5;241m-\u001B[39m grid[:, :\u001B[38;5;241m-\u001B[39m(k \u001B[38;5;241m+\u001B[39m \u001B[38;5;241m1\u001B[39m)]) \u001B[38;5;241m*\u001B[39m B_km1[:, :\u001B[38;5;241m-\u001B[39m\u001B[38;5;241m1\u001B[39m] \u001B[38;5;241m+\u001B[39m (\n\u001B[0;32m     61\u001B[0m                 grid[:, k \u001B[38;5;241m+\u001B[39m \u001B[38;5;241m1\u001B[39m:] \u001B[38;5;241m-\u001B[39m x) \u001B[38;5;241m/\u001B[39m (grid[:, k \u001B[38;5;241m+\u001B[39m \u001B[38;5;241m1\u001B[39m:] \u001B[38;5;241m-\u001B[39m grid[:, \u001B[38;5;241m1\u001B[39m:(\u001B[38;5;241m-\u001B[39mk)]) \u001B[38;5;241m*\u001B[39m B_km1[:, \u001B[38;5;241m1\u001B[39m:]\n\u001B[0;32m     62\u001B[0m \u001B[38;5;28;01mreturn\u001B[39;00m value\n",
      "\u001B[1;31mKeyboardInterrupt\u001B[0m: "
     ]
    }
   ],
   "source": [
    "model = KAN(width=[28 * 28, 10, 1], grid=4, k=3)\n",
    "model.train(dataset, opt=\"LBFGS\", steps=5, lamb=0.01, device=\"cuda\")\n",
    "model.plot()\n"
   ],
   "metadata": {
    "collapsed": false,
    "ExecuteTime": {
     "end_time": "2024-06-05T21:32:40.174524Z",
     "start_time": "2024-06-05T21:30:38.912928Z"
    }
   },
   "id": "91ee7d988341087d",
   "execution_count": 39
  }
 ],
 "metadata": {
  "kernelspec": {
   "display_name": "Python 3",
   "language": "python",
   "name": "python3"
  },
  "language_info": {
   "codemirror_mode": {
    "name": "ipython",
    "version": 2
   },
   "file_extension": ".py",
   "mimetype": "text/x-python",
   "name": "python",
   "nbconvert_exporter": "python",
   "pygments_lexer": "ipython2",
   "version": "2.7.6"
  }
 },
 "nbformat": 4,
 "nbformat_minor": 5
}
