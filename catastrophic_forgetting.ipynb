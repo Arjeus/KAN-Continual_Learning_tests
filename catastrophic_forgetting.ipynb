{
  "cells": [
    {
      "cell_type": "code",
      "source": [
        "! git clone https://github.com/MrPio/KAN_tests\n",
        "! mv KAN_tests/* ./\n",
        "! rm -r KAN_tests/"
      ],
      "metadata": {
        "id": "gt337jf2WDjU",
        "outputId": "7a60edb1-41e2-44ea-c903-07a8aaf9a3b4",
        "colab": {
          "base_uri": "https://localhost:8080/"
        }
      },
      "id": "gt337jf2WDjU",
      "execution_count": null,
      "outputs": [
        {
          "output_type": "stream",
          "name": "stdout",
          "text": [
            "Cloning into 'KAN_tests'...\n",
            "remote: Enumerating objects: 17, done.\u001b[K\n",
            "remote: Counting objects: 100% (17/17), done.\u001b[K\n",
            "remote: Compressing objects: 100% (16/16), done.\u001b[K\n",
            "remote: Total 17 (delta 1), reused 16 (delta 0), pack-reused 0\u001b[K\n",
            "Receiving objects: 100% (17/17), 826.80 KiB | 2.17 MiB/s, done.\n",
            "Resolving deltas: 100% (1/1), done.\n",
            "rm: cannot remove 'KAN_tests/': Directory not empty\n"
          ]
        }
      ]
    },
    {
      "cell_type": "code",
      "execution_count": null,
      "id": "initial_id",
      "metadata": {
        "collapsed": true,
        "ExecuteTime": {
          "end_time": "2024-06-05T21:33:17.386809Z",
          "start_time": "2024-06-05T21:33:17.373196Z"
        },
        "id": "initial_id"
      },
      "outputs": [],
      "source": [
        "import torch\n",
        "import torch.nn as nn\n",
        "import torch.optim as optim\n",
        "from torch.utils.data import DataLoader\n",
        "from torchvision import datasets, transforms\n",
        "from kan import KAN"
      ]
    },
    {
      "cell_type": "markdown",
      "source": [
        "# MLP"
      ],
      "metadata": {
        "id": "Nrdnuy8ypl7a"
      },
      "id": "Nrdnuy8ypl7a"
    },
    {
      "cell_type": "code",
      "outputs": [],
      "source": [
        "class MLP(nn.Module):\n",
        "    def __init__(self, checkpoint: str | None = None):\n",
        "        super(MLP, self).__init__()\n",
        "        self.fc1 = nn.Linear(28 * 28, 128)\n",
        "        self.fc2 = nn.Linear(128, 64)\n",
        "        self.fc3 = nn.Linear(64, 10)\n",
        "        if checkpoint:\n",
        "            self.load_state_dict(torch.load(checkpoint))\n",
        "            self.eval()\n",
        "\n",
        "    def forward(self, x):\n",
        "        x = x.view(-1, 28 * 28)\n",
        "        x = torch.relu(self.fc1(x))\n",
        "        x = torch.relu(self.fc2(x))\n",
        "        x = self.fc3(x)\n",
        "        return x"
      ],
      "metadata": {
        "ExecuteTime": {
          "end_time": "2024-06-05T17:53:26.960716Z",
          "start_time": "2024-06-05T17:53:26.954273Z"
        },
        "id": "3b5566e8b305915b"
      },
      "id": "3b5566e8b305915b",
      "execution_count": null
    },
    {
      "cell_type": "code",
      "outputs": [],
      "source": [
        "transform = transforms.Compose([transforms.ToTensor(), transforms.Normalize((0.5,), (0.5,))])\n",
        "train_dataset = datasets.MNIST(root='./data', train=True, download=True, transform=transform)\n",
        "sorted_indices = sorted(range(len(train_dataset)//20), key=lambda idx: train_dataset.targets[idx])\n",
        "train_dataset = torch.utils.data.Subset(train_dataset, sorted_indices)\n",
        "test_dataset = datasets.MNIST(root='./data', train=False, download=True, transform=transform)\n",
        "train_dataset = torch.utils.data.Subset(train_dataset, range(len(test_dataset)//20))\n",
        "train_loader = DataLoader(train_dataset, batch_size=64, shuffle=False)\n",
        "test_loader = DataLoader(test_dataset, batch_size=64, shuffle=False)"
      ],
      "metadata": {
        "ExecuteTime": {
          "end_time": "2024-06-05T21:30:04.586913Z",
          "start_time": "2024-06-05T21:30:04.371892Z"
        },
        "id": "23fa955d4fbcdf84"
      },
      "id": "23fa955d4fbcdf84",
      "execution_count": null
    },
    {
      "cell_type": "code",
      "outputs": [],
      "source": [
        "# Training the model\n",
        "def train(model, checkpoint, epochs=5):\n",
        "    criterion = nn.CrossEntropyLoss()\n",
        "    optimizer = optim.Adam(model.parameters(), lr=0.001)\n",
        "    for epoch in range(epochs):\n",
        "        for images, labels in train_loader:\n",
        "            outputs = model(images)\n",
        "            loss = criterion(outputs, labels)\n",
        "            optimizer.zero_grad()\n",
        "            loss.backward()\n",
        "            optimizer.step()\n",
        "        print(f'Epoch {epoch + 1}, Loss: {loss.item()}')\n",
        "        torch.save(model.state_dict(), checkpoint)"
      ],
      "metadata": {
        "id": "577581d35eb43ea0"
      },
      "id": "577581d35eb43ea0",
      "execution_count": null
    },
    {
      "cell_type": "code",
      "outputs": [],
      "source": [
        "# Loading model from checkpoint\n",
        "model = MLP(checkpoint='checkpoint/mlp_mnist_no_shuffle.pth')"
      ],
      "metadata": {
        "ExecuteTime": {
          "end_time": "2024-06-05T17:53:50.992425Z",
          "start_time": "2024-06-05T17:53:50.976388Z"
        },
        "id": "c00c6c82ba3d1d25"
      },
      "id": "c00c6c82ba3d1d25",
      "execution_count": null
    },
    {
      "cell_type": "code",
      "outputs": [
        {
          "name": "stdout",
          "output_type": "stream",
          "text": [
            "Accuracy: 10.29%\n",
            "[0, 0, 1, 1, 0, 1, 466, 31, 1656, 7844]\n",
            "10000\n"
          ]
        }
      ],
      "source": [
        "# Evaluating\n",
        "correct = 0\n",
        "total = 0\n",
        "predictions = [0] * 10\n",
        "with torch.no_grad():\n",
        "    for images, labels in test_loader:\n",
        "        outputs = model(images)\n",
        "        _, predicted = torch.max(outputs.data, 1)\n",
        "        total += labels.size(0)\n",
        "        for pred in predicted:\n",
        "            predictions[pred] += 1\n",
        "        correct += (predicted == labels).sum().item()\n",
        "\n",
        "print(f'Accuracy: {100 * correct / total}%')\n",
        "print(predictions)\n",
        "print(sum(predictions))"
      ],
      "metadata": {
        "ExecuteTime": {
          "end_time": "2024-06-05T18:54:53.645301Z",
          "start_time": "2024-06-05T18:54:50.931161Z"
        },
        "id": "955bffa78a5796bf",
        "outputId": "7c4da272-41db-49a3-98ff-bd1db0cb76dd"
      },
      "id": "955bffa78a5796bf",
      "execution_count": null
    },
    {
      "cell_type": "markdown",
      "source": [
        "# KAN"
      ],
      "metadata": {
        "id": "LVIE7tZFpiQ_"
      },
      "id": "LVIE7tZFpiQ_"
    },
    {
      "cell_type": "code",
      "outputs": [
        {
          "output_type": "execute_result",
          "data": {
            "text/plain": [
              "(torch.Size([500, 196]), torch.Size([500, 1]))"
            ]
          },
          "metadata": {},
          "execution_count": 7
        }
      ],
      "source": [
        "dataset = {\n",
        "    'train_input': torch.stack([x[:,::2,::2] for x, _ in train_dataset]).to('cuda'),\n",
        "    'train_label': torch.tensor([x for _, x in train_dataset]).to('cuda'),\n",
        "    'test_input': torch.stack([x[:,::2,::2] for x, _ in test_dataset]).to('cuda'),\n",
        "    'test_label': torch.tensor([x for _, x in test_dataset]).to('cuda')\n",
        "}\n",
        "dataset['train_input'] = dataset['train_input'].view(dataset['train_input'].shape[0], -1).to('cuda')\n",
        "dataset['train_label'] = dataset['train_label'][:, None].to('cuda')\n",
        "dataset['test_input'] = dataset['test_input'].view(dataset['test_input'].shape[0], -1).to('cuda')\n",
        "dataset['test_label'] = dataset['test_label'][:, None].to('cuda')\n",
        "dataset['train_input'].shape, dataset['train_label'].shape"
      ],
      "metadata": {
        "ExecuteTime": {
          "end_time": "2024-06-05T21:35:18.827546Z",
          "start_time": "2024-06-05T21:35:18.560461Z"
        },
        "id": "4fd7b4fe2f6b1fad",
        "outputId": "7bacc020-9d1a-4d78-a8ec-daaaf0c7db15",
        "colab": {
          "base_uri": "https://localhost:8080/"
        }
      },
      "id": "4fd7b4fe2f6b1fad",
      "execution_count": null
    },
    {
      "cell_type": "code",
      "outputs": [],
      "source": [
        "model = KAN(width=[14*14,  10], grid=5, k=3, device='cuda')\n",
        "model.train(dataset, opt=\"Adam\", steps=5, lamb=0.01, device=\"cuda\")"
      ],
      "metadata": {
        "ExecuteTime": {
          "end_time": "2024-06-05T21:32:40.174524Z",
          "start_time": "2024-06-05T21:30:38.912928Z"
        },
        "id": "91ee7d988341087d"
      },
      "id": "91ee7d988341087d",
      "execution_count": null
    },
    {
      "cell_type": "code",
      "source": [
        "# Evaluating\n",
        "correct = 0\n",
        "total = 0\n",
        "predictions = [0] * 10\n",
        "with torch.no_grad():\n",
        "    for images, labels in test_loader:\n",
        "        outputs = model(images[:,:,::2,::2].reshape(images.shape[0],-1).to('cuda'))\n",
        "        print(outputs[0:4])\n",
        "        _, predicted = torch.max(outputs.data, 1)\n",
        "        total += labels.size(0)\n",
        "        for pred in predicted:\n",
        "            predictions[pred] += 1\n",
        "        correct += (predicted == labels).sum().item()\n",
        "        break\n",
        "\n",
        "print(f'Accuracy: {100 * correct / total}%')"
      ],
      "metadata": {
        "id": "ki4bLDWJmsJY",
        "outputId": "d988871c-0074-4cc5-bc76-7dfbffdb5852",
        "colab": {
          "base_uri": "https://localhost:8080/",
          "height": 303
        }
      },
      "id": "ki4bLDWJmsJY",
      "execution_count": null,
      "outputs": [
        {
          "output_type": "stream",
          "name": "stdout",
          "text": [
            "tensor([[nan, nan, nan, nan, nan, nan, nan, nan, nan, nan],\n",
            "        [nan, nan, nan, nan, nan, nan, nan, nan, nan, nan],\n",
            "        [nan, nan, nan, nan, nan, nan, nan, nan, nan, nan],\n",
            "        [nan, nan, nan, nan, nan, nan, nan, nan, nan, nan]], device='cuda:0')\n"
          ]
        },
        {
          "output_type": "error",
          "ename": "RuntimeError",
          "evalue": "Expected all tensors to be on the same device, but found at least two devices, cuda:0 and cpu!",
          "traceback": [
            "\u001b[0;31m---------------------------------------------------------------------------\u001b[0m",
            "\u001b[0;31mRuntimeError\u001b[0m                              Traceback (most recent call last)",
            "\u001b[0;32m<ipython-input-25-7ef5a1b25497>\u001b[0m in \u001b[0;36m<cell line: 5>\u001b[0;34m()\u001b[0m\n\u001b[1;32m     13\u001b[0m         \u001b[0;32mfor\u001b[0m \u001b[0mpred\u001b[0m \u001b[0;32min\u001b[0m \u001b[0mpredicted\u001b[0m\u001b[0;34m:\u001b[0m\u001b[0;34m\u001b[0m\u001b[0;34m\u001b[0m\u001b[0m\n\u001b[1;32m     14\u001b[0m             \u001b[0mpredictions\u001b[0m\u001b[0;34m[\u001b[0m\u001b[0mpred\u001b[0m\u001b[0;34m]\u001b[0m \u001b[0;34m+=\u001b[0m \u001b[0;36m1\u001b[0m\u001b[0;34m\u001b[0m\u001b[0;34m\u001b[0m\u001b[0m\n\u001b[0;32m---> 15\u001b[0;31m         \u001b[0mcorrect\u001b[0m \u001b[0;34m+=\u001b[0m \u001b[0;34m(\u001b[0m\u001b[0mpredicted\u001b[0m \u001b[0;34m==\u001b[0m \u001b[0mlabels\u001b[0m\u001b[0;34m)\u001b[0m\u001b[0;34m.\u001b[0m\u001b[0msum\u001b[0m\u001b[0;34m(\u001b[0m\u001b[0;34m)\u001b[0m\u001b[0;34m.\u001b[0m\u001b[0mitem\u001b[0m\u001b[0;34m(\u001b[0m\u001b[0;34m)\u001b[0m\u001b[0;34m\u001b[0m\u001b[0;34m\u001b[0m\u001b[0m\n\u001b[0m\u001b[1;32m     16\u001b[0m         \u001b[0;32mbreak\u001b[0m\u001b[0;34m\u001b[0m\u001b[0;34m\u001b[0m\u001b[0m\n\u001b[1;32m     17\u001b[0m \u001b[0;34m\u001b[0m\u001b[0m\n",
            "\u001b[0;31mRuntimeError\u001b[0m: Expected all tensors to be on the same device, but found at least two devices, cuda:0 and cpu!"
          ]
        }
      ]
    }
  ],
  "metadata": {
    "kernelspec": {
      "display_name": "Python 3",
      "name": "python3"
    },
    "language_info": {
      "codemirror_mode": {
        "name": "ipython",
        "version": 2
      },
      "file_extension": ".py",
      "mimetype": "text/x-python",
      "name": "python",
      "nbconvert_exporter": "python",
      "pygments_lexer": "ipython2",
      "version": "2.7.6"
    },
    "colab": {
      "provenance": [],
      "gpuType": "T4"
    },
    "accelerator": "GPU"
  },
  "nbformat": 4,
  "nbformat_minor": 5
}