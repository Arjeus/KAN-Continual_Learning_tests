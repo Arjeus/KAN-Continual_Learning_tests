{
 "cells": [
  {
   "cell_type": "code",
   "execution_count": 3,
   "id": "initial_id",
   "metadata": {
    "collapsed": true,
    "ExecuteTime": {
     "end_time": "2024-06-20T12:54:07.750356Z",
     "start_time": "2024-06-20T12:54:04.305499Z"
    }
   },
   "outputs": [],
   "source": [
    "import torch\n",
    "from ptflops import get_model_complexity_info\n",
    "from torch import nn\n",
    "from torchsummary import summary\n",
    "\n",
    "from efficient_kan import KAN"
   ]
  },
  {
   "cell_type": "markdown",
   "source": [
    "# ARCHITECTURES DEFINITION"
   ],
   "metadata": {
    "collapsed": false
   },
   "id": "14b276dbf3596400"
  },
  {
   "cell_type": "code",
   "outputs": [],
   "source": [
    "class MLP(nn.Module):\n",
    "    def __init__(self):\n",
    "        super(MLP, self).__init__()\n",
    "        self.fc1 = nn.Linear(1 , 2)\n",
    "        # self.fc2 = nn.Linear(28 * 28, 256)\n",
    "        # self.fc3 = nn.Linear(256, 10)\n",
    "    def forward(self, x):\n",
    "        x = torch.relu(self.fc1(x))\n",
    "        # x = torch.relu(self.fc2(x))\n",
    "        # x = torch.relu(self.fc3(x))\n",
    "        return x"
   ],
   "metadata": {
    "collapsed": false,
    "ExecuteTime": {
     "end_time": "2024-06-19T14:10:08.334331Z",
     "start_time": "2024-06-19T14:10:08.329808Z"
    }
   },
   "id": "9f3dfbe7f5efa945",
   "execution_count": 13
  },
  {
   "cell_type": "markdown",
   "source": [
    "# FLOPS EVALUATION"
   ],
   "metadata": {
    "collapsed": false
   },
   "id": "9f0b746bedf8c299"
  },
  {
   "cell_type": "code",
   "outputs": [
    {
     "ename": "KeyboardInterrupt",
     "evalue": "",
     "output_type": "error",
     "traceback": [
      "\u001B[1;31m---------------------------------------------------------------------------\u001B[0m",
      "\u001B[1;31mKeyboardInterrupt\u001B[0m                         Traceback (most recent call last)",
      "Cell \u001B[1;32mIn[7], line 4\u001B[0m\n\u001B[0;32m      2\u001B[0m \u001B[38;5;66;03m# model = MLP()\u001B[39;00m\n\u001B[0;32m      3\u001B[0m \u001B[38;5;28;01mwith\u001B[39;00m torch\u001B[38;5;241m.\u001B[39mcuda\u001B[38;5;241m.\u001B[39mdevice(\u001B[38;5;241m0\u001B[39m):\n\u001B[1;32m----> 4\u001B[0m     flops, params \u001B[38;5;241m=\u001B[39m \u001B[43mget_model_complexity_info\u001B[49m\u001B[43m(\u001B[49m\u001B[43mmodel\u001B[49m\u001B[43m,\u001B[49m\u001B[43m \u001B[49m\u001B[43m(\u001B[49m\u001B[38;5;241;43m1\u001B[39;49m\u001B[43m,\u001B[49m\u001B[43m)\u001B[49m\u001B[43m,\u001B[49m\u001B[43m \u001B[49m\u001B[43mas_strings\u001B[49m\u001B[38;5;241;43m=\u001B[39;49m\u001B[38;5;28;43;01mTrue\u001B[39;49;00m\u001B[43m)\u001B[49m\n\u001B[0;32m      5\u001B[0m     \u001B[38;5;28mprint\u001B[39m(\u001B[38;5;124mf\u001B[39m\u001B[38;5;124m\"\u001B[39m\u001B[38;5;124mFLOPs: \u001B[39m\u001B[38;5;132;01m{\u001B[39;00mflops\u001B[38;5;132;01m}\u001B[39;00m\u001B[38;5;124m\"\u001B[39m)\n\u001B[0;32m      6\u001B[0m     \u001B[38;5;28mprint\u001B[39m(\u001B[38;5;124mf\u001B[39m\u001B[38;5;124m\"\u001B[39m\u001B[38;5;124mParams: \u001B[39m\u001B[38;5;132;01m{\u001B[39;00mparams\u001B[38;5;132;01m}\u001B[39;00m\u001B[38;5;124m\"\u001B[39m)\n",
      "File \u001B[1;32m~\\AppData\\Local\\Programs\\Python\\Python310\\lib\\site-packages\\ptflops\\flops_counter.py:88\u001B[0m, in \u001B[0;36mget_model_complexity_info\u001B[1;34m(model, input_res, print_per_layer_stat, as_strings, input_constructor, ost, verbose, ignore_modules, custom_modules_hooks, backend, flops_units, param_units, output_precision)\u001B[0m\n\u001B[0;32m     85\u001B[0m \u001B[38;5;28;01massert\u001B[39;00m \u001B[38;5;28misinstance\u001B[39m(model, nn\u001B[38;5;241m.\u001B[39mModule)\n\u001B[0;32m     87\u001B[0m \u001B[38;5;28;01mif\u001B[39;00m FLOPS_BACKEND(backend) \u001B[38;5;241m==\u001B[39m FLOPS_BACKEND\u001B[38;5;241m.\u001B[39mPYTORCH:\n\u001B[1;32m---> 88\u001B[0m     flops_count, params_count \u001B[38;5;241m=\u001B[39m \u001B[43mget_flops_pytorch\u001B[49m\u001B[43m(\u001B[49m\u001B[43mmodel\u001B[49m\u001B[43m,\u001B[49m\u001B[43m \u001B[49m\u001B[43minput_res\u001B[49m\u001B[43m,\u001B[49m\n\u001B[0;32m     89\u001B[0m \u001B[43m                                                  \u001B[49m\u001B[43mprint_per_layer_stat\u001B[49m\u001B[43m,\u001B[49m\n\u001B[0;32m     90\u001B[0m \u001B[43m                                                  \u001B[49m\u001B[43minput_constructor\u001B[49m\u001B[43m,\u001B[49m\u001B[43m \u001B[49m\u001B[43most\u001B[49m\u001B[43m,\u001B[49m\n\u001B[0;32m     91\u001B[0m \u001B[43m                                                  \u001B[49m\u001B[43mverbose\u001B[49m\u001B[43m,\u001B[49m\u001B[43m \u001B[49m\u001B[43mignore_modules\u001B[49m\u001B[43m,\u001B[49m\n\u001B[0;32m     92\u001B[0m \u001B[43m                                                  \u001B[49m\u001B[43mcustom_modules_hooks\u001B[49m\u001B[43m,\u001B[49m\n\u001B[0;32m     93\u001B[0m \u001B[43m                                                  \u001B[49m\u001B[43moutput_precision\u001B[49m\u001B[38;5;241;43m=\u001B[39;49m\u001B[43moutput_precision\u001B[49m\u001B[43m,\u001B[49m\n\u001B[0;32m     94\u001B[0m \u001B[43m                                                  \u001B[49m\u001B[43mflops_units\u001B[49m\u001B[38;5;241;43m=\u001B[39;49m\u001B[43mflops_units\u001B[49m\u001B[43m,\u001B[49m\n\u001B[0;32m     95\u001B[0m \u001B[43m                                                  \u001B[49m\u001B[43mparam_units\u001B[49m\u001B[38;5;241;43m=\u001B[39;49m\u001B[43mparam_units\u001B[49m\u001B[43m)\u001B[49m\n\u001B[0;32m     96\u001B[0m \u001B[38;5;28;01melif\u001B[39;00m FLOPS_BACKEND(backend) \u001B[38;5;241m==\u001B[39m FLOPS_BACKEND\u001B[38;5;241m.\u001B[39mATEN:\n\u001B[0;32m     97\u001B[0m     flops_count, params_count \u001B[38;5;241m=\u001B[39m get_flops_aten(model, input_res,\n\u001B[0;32m     98\u001B[0m                                                print_per_layer_stat,\n\u001B[0;32m     99\u001B[0m                                                input_constructor, ost,\n\u001B[1;32m   (...)\u001B[0m\n\u001B[0;32m    103\u001B[0m                                                flops_units\u001B[38;5;241m=\u001B[39mflops_units,\n\u001B[0;32m    104\u001B[0m                                                param_units\u001B[38;5;241m=\u001B[39mparam_units)\n",
      "File \u001B[1;32m~\\AppData\\Local\\Programs\\Python\\Python310\\lib\\site-packages\\ptflops\\pytorch_engine.py:65\u001B[0m, in \u001B[0;36mget_flops_pytorch\u001B[1;34m(model, input_res, print_per_layer_stat, input_constructor, ost, verbose, ignore_modules, custom_modules_hooks, output_precision, flops_units, param_units)\u001B[0m\n\u001B[0;32m     63\u001B[0m \u001B[38;5;28;01melse\u001B[39;00m:\n\u001B[0;32m     64\u001B[0m     _ \u001B[38;5;241m=\u001B[39m flops_model(batch)\n\u001B[1;32m---> 65\u001B[0m flops_count, params_count \u001B[38;5;241m=\u001B[39m \u001B[43mflops_model\u001B[49m\u001B[38;5;241;43m.\u001B[39;49m\u001B[43mcompute_average_flops_cost\u001B[49m\u001B[43m(\u001B[49m\u001B[43m)\u001B[49m\n\u001B[0;32m     66\u001B[0m flops_count \u001B[38;5;241m+\u001B[39m\u001B[38;5;241m=\u001B[39m \u001B[38;5;28msum\u001B[39m(torch_functional_flops)\n\u001B[0;32m     67\u001B[0m flops_count \u001B[38;5;241m+\u001B[39m\u001B[38;5;241m=\u001B[39m \u001B[38;5;28msum\u001B[39m(torch_tensor_ops_flops)\n",
      "File \u001B[1;32m~\\AppData\\Local\\Programs\\Python\\Python310\\lib\\site-packages\\ptflops\\pytorch_engine.py:188\u001B[0m, in \u001B[0;36mcompute_average_flops_cost\u001B[1;34m(self)\u001B[0m\n\u001B[0;32m    185\u001B[0m \u001B[38;5;28;01mfor\u001B[39;00m m \u001B[38;5;129;01min\u001B[39;00m \u001B[38;5;28mself\u001B[39m\u001B[38;5;241m.\u001B[39mmodules():\n\u001B[0;32m    186\u001B[0m     m\u001B[38;5;241m.\u001B[39maccumulate_flops \u001B[38;5;241m=\u001B[39m accumulate_flops\u001B[38;5;241m.\u001B[39m\u001B[38;5;21m__get__\u001B[39m(m)\n\u001B[1;32m--> 188\u001B[0m flops_sum \u001B[38;5;241m=\u001B[39m \u001B[38;5;28;43mself\u001B[39;49m\u001B[38;5;241;43m.\u001B[39;49m\u001B[43maccumulate_flops\u001B[49m\u001B[43m(\u001B[49m\u001B[43m)\u001B[49m\n\u001B[0;32m    190\u001B[0m \u001B[38;5;28;01mfor\u001B[39;00m m \u001B[38;5;129;01min\u001B[39;00m \u001B[38;5;28mself\u001B[39m\u001B[38;5;241m.\u001B[39mmodules():\n\u001B[0;32m    191\u001B[0m     \u001B[38;5;28;01mif\u001B[39;00m \u001B[38;5;28mhasattr\u001B[39m(m, \u001B[38;5;124m'\u001B[39m\u001B[38;5;124maccumulate_flops\u001B[39m\u001B[38;5;124m'\u001B[39m):\n",
      "File \u001B[1;32m~\\AppData\\Local\\Programs\\Python\\Python310\\lib\\site-packages\\ptflops\\pytorch_engine.py:98\u001B[0m, in \u001B[0;36maccumulate_flops\u001B[1;34m(self)\u001B[0m\n\u001B[0;32m     96\u001B[0m \u001B[38;5;28msum\u001B[39m \u001B[38;5;241m=\u001B[39m \u001B[38;5;241m0\u001B[39m\n\u001B[0;32m     97\u001B[0m \u001B[38;5;28;01mfor\u001B[39;00m m \u001B[38;5;129;01min\u001B[39;00m \u001B[38;5;28mself\u001B[39m\u001B[38;5;241m.\u001B[39mchildren():\n\u001B[1;32m---> 98\u001B[0m     \u001B[38;5;28msum\u001B[39m \u001B[38;5;241m+\u001B[39m\u001B[38;5;241m=\u001B[39m \u001B[43mm\u001B[49m\u001B[38;5;241;43m.\u001B[39;49m\u001B[43maccumulate_flops\u001B[49m\u001B[43m(\u001B[49m\u001B[43m)\u001B[49m\n\u001B[0;32m     99\u001B[0m \u001B[38;5;28;01mreturn\u001B[39;00m \u001B[38;5;28msum\u001B[39m\n",
      "File \u001B[1;32m~\\AppData\\Local\\Programs\\Python\\Python310\\lib\\site-packages\\ptflops\\pytorch_engine.py:98\u001B[0m, in \u001B[0;36maccumulate_flops\u001B[1;34m(self)\u001B[0m\n\u001B[0;32m     96\u001B[0m \u001B[38;5;28msum\u001B[39m \u001B[38;5;241m=\u001B[39m \u001B[38;5;241m0\u001B[39m\n\u001B[0;32m     97\u001B[0m \u001B[38;5;28;01mfor\u001B[39;00m m \u001B[38;5;129;01min\u001B[39;00m \u001B[38;5;28mself\u001B[39m\u001B[38;5;241m.\u001B[39mchildren():\n\u001B[1;32m---> 98\u001B[0m     \u001B[38;5;28msum\u001B[39m \u001B[38;5;241m+\u001B[39m\u001B[38;5;241m=\u001B[39m \u001B[43mm\u001B[49m\u001B[38;5;241;43m.\u001B[39;49m\u001B[43maccumulate_flops\u001B[49m\u001B[43m(\u001B[49m\u001B[43m)\u001B[49m\n\u001B[0;32m     99\u001B[0m \u001B[38;5;28;01mreturn\u001B[39;00m \u001B[38;5;28msum\u001B[39m\n",
      "File \u001B[1;32m~\\AppData\\Local\\Programs\\Python\\Python310\\lib\\site-packages\\ptflops\\pytorch_engine.py:97\u001B[0m, in \u001B[0;36maccumulate_flops\u001B[1;34m(self)\u001B[0m\n\u001B[0;32m     95\u001B[0m \u001B[38;5;28;01melse\u001B[39;00m:\n\u001B[0;32m     96\u001B[0m     \u001B[38;5;28msum\u001B[39m \u001B[38;5;241m=\u001B[39m \u001B[38;5;241m0\u001B[39m\n\u001B[1;32m---> 97\u001B[0m     \u001B[38;5;28;01mfor\u001B[39;00m m \u001B[38;5;129;01min\u001B[39;00m \u001B[38;5;28mself\u001B[39m\u001B[38;5;241m.\u001B[39mchildren():\n\u001B[0;32m     98\u001B[0m         \u001B[38;5;28msum\u001B[39m \u001B[38;5;241m+\u001B[39m\u001B[38;5;241m=\u001B[39m m\u001B[38;5;241m.\u001B[39maccumulate_flops()\n\u001B[0;32m     99\u001B[0m     \u001B[38;5;28;01mreturn\u001B[39;00m \u001B[38;5;28msum\u001B[39m\n",
      "File \u001B[1;32m~\\AppData\\Local\\Programs\\Python\\Python310\\lib\\site-packages\\torch\\nn\\modules\\module.py:2320\u001B[0m, in \u001B[0;36mModule.children\u001B[1;34m(self)\u001B[0m\n\u001B[0;32m   2314\u001B[0m \u001B[38;5;250m\u001B[39m\u001B[38;5;124mr\u001B[39m\u001B[38;5;124;03m\"\"\"Return an iterator over immediate children modules.\u001B[39;00m\n\u001B[0;32m   2315\u001B[0m \n\u001B[0;32m   2316\u001B[0m \u001B[38;5;124;03mYields:\u001B[39;00m\n\u001B[0;32m   2317\u001B[0m \u001B[38;5;124;03m    Module: a child module\u001B[39;00m\n\u001B[0;32m   2318\u001B[0m \u001B[38;5;124;03m\"\"\"\u001B[39;00m\n\u001B[0;32m   2319\u001B[0m \u001B[38;5;28;01mfor\u001B[39;00m name, module \u001B[38;5;129;01min\u001B[39;00m \u001B[38;5;28mself\u001B[39m\u001B[38;5;241m.\u001B[39mnamed_children():\n\u001B[1;32m-> 2320\u001B[0m     \u001B[38;5;28;01myield\u001B[39;00m \u001B[43mmodule\u001B[49m\n",
      "File \u001B[1;32m~\\AppData\\Local\\Programs\\Python\\Python310\\lib\\site-packages\\torch\\nn\\modules\\module.py:2320\u001B[0m, in \u001B[0;36mModule.children\u001B[1;34m(self)\u001B[0m\n\u001B[0;32m   2314\u001B[0m \u001B[38;5;250m\u001B[39m\u001B[38;5;124mr\u001B[39m\u001B[38;5;124;03m\"\"\"Return an iterator over immediate children modules.\u001B[39;00m\n\u001B[0;32m   2315\u001B[0m \n\u001B[0;32m   2316\u001B[0m \u001B[38;5;124;03mYields:\u001B[39;00m\n\u001B[0;32m   2317\u001B[0m \u001B[38;5;124;03m    Module: a child module\u001B[39;00m\n\u001B[0;32m   2318\u001B[0m \u001B[38;5;124;03m\"\"\"\u001B[39;00m\n\u001B[0;32m   2319\u001B[0m \u001B[38;5;28;01mfor\u001B[39;00m name, module \u001B[38;5;129;01min\u001B[39;00m \u001B[38;5;28mself\u001B[39m\u001B[38;5;241m.\u001B[39mnamed_children():\n\u001B[1;32m-> 2320\u001B[0m     \u001B[38;5;28;01myield\u001B[39;00m \u001B[43mmodule\u001B[49m\n",
      "File \u001B[1;32m_pydevd_bundle\\pydevd_cython_win32_310_64.pyx:1187\u001B[0m, in \u001B[0;36m_pydevd_bundle.pydevd_cython_win32_310_64.SafeCallWrapper.__call__\u001B[1;34m()\u001B[0m\n",
      "File \u001B[1;32m_pydevd_bundle\\pydevd_cython_win32_310_64.pyx:627\u001B[0m, in \u001B[0;36m_pydevd_bundle.pydevd_cython_win32_310_64.PyDBFrame.trace_dispatch\u001B[1;34m()\u001B[0m\n",
      "File \u001B[1;32m_pydevd_bundle\\pydevd_cython_win32_310_64.pyx:1103\u001B[0m, in \u001B[0;36m_pydevd_bundle.pydevd_cython_win32_310_64.PyDBFrame.trace_dispatch\u001B[1;34m()\u001B[0m\n",
      "File \u001B[1;32m_pydevd_bundle\\pydevd_cython_win32_310_64.pyx:1061\u001B[0m, in \u001B[0;36m_pydevd_bundle.pydevd_cython_win32_310_64.PyDBFrame.trace_dispatch\u001B[1;34m()\u001B[0m\n",
      "File \u001B[1;32mC:\\Program Files\\JetBrains\\PyCharm 2023.3.4\\plugins\\python\\helpers-pro\\jupyter_debug\\pydev_jupyter_plugin.py:169\u001B[0m, in \u001B[0;36mstop\u001B[1;34m(plugin, pydb, frame, event, args, stop_info, arg, step_cmd)\u001B[0m\n\u001B[0;32m    167\u001B[0m     frame \u001B[38;5;241m=\u001B[39m suspend_jupyter(main_debugger, thread, frame, step_cmd)\n\u001B[0;32m    168\u001B[0m     \u001B[38;5;28;01mif\u001B[39;00m frame:\n\u001B[1;32m--> 169\u001B[0m         \u001B[43mmain_debugger\u001B[49m\u001B[38;5;241;43m.\u001B[39;49m\u001B[43mdo_wait_suspend\u001B[49m\u001B[43m(\u001B[49m\u001B[43mthread\u001B[49m\u001B[43m,\u001B[49m\u001B[43m \u001B[49m\u001B[43mframe\u001B[49m\u001B[43m,\u001B[49m\u001B[43m \u001B[49m\u001B[43mevent\u001B[49m\u001B[43m,\u001B[49m\u001B[43m \u001B[49m\u001B[43marg\u001B[49m\u001B[43m)\u001B[49m\n\u001B[0;32m    170\u001B[0m         \u001B[38;5;28;01mreturn\u001B[39;00m \u001B[38;5;28;01mTrue\u001B[39;00m\n\u001B[0;32m    171\u001B[0m \u001B[38;5;28;01mreturn\u001B[39;00m \u001B[38;5;28;01mFalse\u001B[39;00m\n",
      "File \u001B[1;32mC:\\Program Files\\JetBrains\\PyCharm 2023.3.4\\plugins\\python\\helpers\\pydev\\pydevd.py:1184\u001B[0m, in \u001B[0;36mPyDB.do_wait_suspend\u001B[1;34m(self, thread, frame, event, arg, send_suspend_message, is_unhandled_exception)\u001B[0m\n\u001B[0;32m   1181\u001B[0m         from_this_thread\u001B[38;5;241m.\u001B[39mappend(frame_id)\n\u001B[0;32m   1183\u001B[0m \u001B[38;5;28;01mwith\u001B[39;00m \u001B[38;5;28mself\u001B[39m\u001B[38;5;241m.\u001B[39m_threads_suspended_single_notification\u001B[38;5;241m.\u001B[39mnotify_thread_suspended(thread_id, stop_reason):\n\u001B[1;32m-> 1184\u001B[0m     \u001B[38;5;28;43mself\u001B[39;49m\u001B[38;5;241;43m.\u001B[39;49m\u001B[43m_do_wait_suspend\u001B[49m\u001B[43m(\u001B[49m\u001B[43mthread\u001B[49m\u001B[43m,\u001B[49m\u001B[43m \u001B[49m\u001B[43mframe\u001B[49m\u001B[43m,\u001B[49m\u001B[43m \u001B[49m\u001B[43mevent\u001B[49m\u001B[43m,\u001B[49m\u001B[43m \u001B[49m\u001B[43marg\u001B[49m\u001B[43m,\u001B[49m\u001B[43m \u001B[49m\u001B[43msuspend_type\u001B[49m\u001B[43m,\u001B[49m\u001B[43m \u001B[49m\u001B[43mfrom_this_thread\u001B[49m\u001B[43m)\u001B[49m\n",
      "File \u001B[1;32mC:\\Program Files\\JetBrains\\PyCharm 2023.3.4\\plugins\\python\\helpers\\pydev\\pydevd.py:1199\u001B[0m, in \u001B[0;36mPyDB._do_wait_suspend\u001B[1;34m(self, thread, frame, event, arg, suspend_type, from_this_thread)\u001B[0m\n\u001B[0;32m   1196\u001B[0m             \u001B[38;5;28mself\u001B[39m\u001B[38;5;241m.\u001B[39m_call_mpl_hook()\n\u001B[0;32m   1198\u001B[0m         \u001B[38;5;28mself\u001B[39m\u001B[38;5;241m.\u001B[39mprocess_internal_commands()\n\u001B[1;32m-> 1199\u001B[0m         \u001B[43mtime\u001B[49m\u001B[38;5;241;43m.\u001B[39;49m\u001B[43msleep\u001B[49m\u001B[43m(\u001B[49m\u001B[38;5;241;43m0.01\u001B[39;49m\u001B[43m)\u001B[49m\n\u001B[0;32m   1201\u001B[0m \u001B[38;5;28mself\u001B[39m\u001B[38;5;241m.\u001B[39mcancel_async_evaluation(get_current_thread_id(thread), \u001B[38;5;28mstr\u001B[39m(\u001B[38;5;28mid\u001B[39m(frame)))\n\u001B[0;32m   1203\u001B[0m \u001B[38;5;66;03m# process any stepping instructions\u001B[39;00m\n",
      "\u001B[1;31mKeyboardInterrupt\u001B[0m: "
     ]
    }
   ],
   "source": [
    "model = KAN([1,1],grid_size=5, spline_order=3)\n",
    "# model = MLP()\n",
    "with torch.cuda.device(0):\n",
    "    flops, params = get_model_complexity_info(model, (1,), as_strings=True)\n",
    "    print(f\"FLOPs: {flops}\")\n",
    "    print(f\"Params: {params}\")"
   ],
   "metadata": {
    "collapsed": false,
    "ExecuteTime": {
     "end_time": "2024-06-20T12:57:06.668171Z",
     "start_time": "2024-06-20T12:55:57.978713Z"
    }
   },
   "id": "3bee29a5bbd28403",
   "execution_count": 7
  }
 ],
 "metadata": {
  "kernelspec": {
   "display_name": "Python 3",
   "language": "python",
   "name": "python3"
  },
  "language_info": {
   "codemirror_mode": {
    "name": "ipython",
    "version": 2
   },
   "file_extension": ".py",
   "mimetype": "text/x-python",
   "name": "python",
   "nbconvert_exporter": "python",
   "pygments_lexer": "ipython2",
   "version": "2.7.6"
  }
 },
 "nbformat": 4,
 "nbformat_minor": 5
}
