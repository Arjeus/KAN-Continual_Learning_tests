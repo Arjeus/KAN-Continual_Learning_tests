{
 "cells": [
  {
   "cell_type": "code",
   "execution_count": 2,
   "id": "initial_id",
   "metadata": {
    "collapsed": true,
    "ExecuteTime": {
     "end_time": "2024-07-04T15:09:18.403746Z",
     "start_time": "2024-07-04T15:09:13.834480Z"
    }
   },
   "outputs": [],
   "source": [
    "import torch\n",
    "from ptflops import get_model_complexity_info\n",
    "from torch import nn\n",
    "from torchsummary import summary\n",
    "\n",
    "from efficient_kan import KAN"
   ]
  },
  {
   "cell_type": "markdown",
   "source": [
    "# ARCHITECTURES DEFINITION"
   ],
   "metadata": {
    "collapsed": false
   },
   "id": "14b276dbf3596400"
  },
  {
   "cell_type": "code",
   "outputs": [],
   "source": [
    "class MLP(nn.Module):\n",
    "    def __init__(self):\n",
    "        super(MLP, self).__init__()\n",
    "        self.fc1 = nn.Linear(1 , 2)\n",
    "        # self.fc2 = nn.Linear(28 * 28, 256)\n",
    "        # self.fc3 = nn.Linear(256, 10)\n",
    "    def forward(self, x):\n",
    "        x = torch.relu(self.fc1(x))\n",
    "        # x = torch.relu(self.fc2(x))\n",
    "        # x = torch.relu(self.fc3(x))\n",
    "        return x"
   ],
   "metadata": {
    "collapsed": false,
    "ExecuteTime": {
     "end_time": "2024-06-19T14:10:08.334331Z",
     "start_time": "2024-06-19T14:10:08.329808Z"
    }
   },
   "id": "9f3dfbe7f5efa945",
   "execution_count": 13
  },
  {
   "cell_type": "markdown",
   "source": [
    "# FLOPS EVALUATION"
   ],
   "metadata": {
    "collapsed": false
   },
   "id": "9f0b746bedf8c299"
  },
  {
   "cell_type": "code",
   "outputs": [
    {
     "name": "stdout",
     "output_type": "stream",
     "text": [
      "KAN(\n",
      "  0, 0.000% Params, 0.0 Mac, 0.000% MACs, \n",
      "  (layers): ModuleList(\n",
      "    (0): KANLinear(\n",
      "      0, 0.000% Params, 0.0 Mac, 0.000% MACs, \n",
      "      (base_activation): SiLU(0, 0.000% Params, 0.0 Mac, 0.000% MACs, )\n",
      "    )\n",
      "  )\n",
      ")\n",
      "FLOPs: 1 Mac\n",
      "Params: 10\n"
     ]
    }
   ],
   "source": [
    "model = KAN([1,1],grid_size=5, spline_order=3)\n",
    "# model = MLP()\n",
    "with torch.cuda.device(0):\n",
    "    flops, params = get_model_complexity_info(model, (1,), as_strings=True)\n",
    "    print(f\"FLOPs: {flops}\")\n",
    "    print(f\"Params: {params}\")"
   ],
   "metadata": {
    "collapsed": false,
    "ExecuteTime": {
     "end_time": "2024-07-04T15:09:18.436795Z",
     "start_time": "2024-07-04T15:09:18.404734Z"
    }
   },
   "id": "3bee29a5bbd28403",
   "execution_count": 3
  }
 ],
 "metadata": {
  "kernelspec": {
   "display_name": "Python 3",
   "language": "python",
   "name": "python3"
  },
  "language_info": {
   "codemirror_mode": {
    "name": "ipython",
    "version": 2
   },
   "file_extension": ".py",
   "mimetype": "text/x-python",
   "name": "python",
   "nbconvert_exporter": "python",
   "pygments_lexer": "ipython2",
   "version": "2.7.6"
  }
 },
 "nbformat": 4,
 "nbformat_minor": 5
}
