{
 "cells": [
  {
   "cell_type": "code",
   "execution_count": 7,
   "id": "initial_id",
   "metadata": {
    "collapsed": true,
    "id": "initial_id",
    "ExecuteTime": {
     "end_time": "2024-06-07T20:57:51.233673Z",
     "start_time": "2024-06-07T20:57:51.220151Z"
    }
   },
   "outputs": [
    {
     "data": {
      "text/plain": "device(type='cuda')"
     },
     "execution_count": 7,
     "metadata": {},
     "output_type": "execute_result"
    }
   ],
   "source": [
    "import torch\n",
    "import torch.nn as nn\n",
    "import torch.optim as optim\n",
    "from torch.utils.data import DataLoader\n",
    "from torchvision import datasets, transforms\n",
    "from tqdm import tqdm\n",
    "\n",
    "device = torch.device(\"cuda\" if torch.cuda.is_available() else \"cpu\")\n",
    "device"
   ]
  },
  {
   "cell_type": "markdown",
   "source": [
    "# MLP\n",
    "In this notebook we demonstrate how the catastrophic forgetting heavily affect MLPs.\n",
    "We train an MLP on a sorted MNIST. In the evaluation phase, the MLPs respond with the last seen digits."
   ],
   "metadata": {
    "id": "Nrdnuy8ypl7a"
   },
   "id": "Nrdnuy8ypl7a"
  },
  {
   "cell_type": "code",
   "outputs": [],
   "source": [
    "class MLP(nn.Module):\n",
    "    def __init__(self, checkpoint: str | None = None):\n",
    "        super(MLP, self).__init__()\n",
    "        self.fc1 = nn.Linear(28 * 28, 28*28)\n",
    "        self.fc2 = nn.Linear(28*28, 256)\n",
    "        self.fc3 = nn.Linear(256, 10)\n",
    "        if checkpoint:\n",
    "            self.load_state_dict(torch.load(checkpoint))\n",
    "            self.eval()\n",
    "\n",
    "    def forward(self, x):\n",
    "        x = x.view(-1, 28 * 28)\n",
    "        x = torch.relu(self.fc1(x))\n",
    "        x = torch.relu(self.fc2(x))\n",
    "        x = self.fc3(x)\n",
    "        return x"
   ],
   "metadata": {
    "id": "3b5566e8b305915b",
    "ExecuteTime": {
     "end_time": "2024-06-07T21:01:23.840957Z",
     "start_time": "2024-06-07T21:01:23.831424Z"
    }
   },
   "id": "3b5566e8b305915b",
   "execution_count": 13
  },
  {
   "cell_type": "code",
   "outputs": [],
   "source": [
    "transform = transforms.Compose([transforms.ToTensor(), transforms.Normalize((0.5,), (0.5,))])\n",
    "# Train set. Here we sort the MNIST by digits and disable data shuffling.\n",
    "train_dataset = datasets.MNIST(root='./data', train=True, download=True, transform=transform)\n",
    "sorted_indices = sorted(range(len(train_dataset)//1), key=lambda idx: train_dataset.targets[idx])\n",
    "train_dataset = torch.utils.data.Subset(train_dataset, sorted_indices)\n",
    "train_loader = DataLoader(train_dataset, batch_size=64, shuffle=False)\n",
    "# Test set\n",
    "test_dataset = datasets.MNIST(root='./data', train=False, download=True, transform=transform)\n",
    "test_loader = DataLoader(test_dataset, batch_size=64, shuffle=False)"
   ],
   "metadata": {
    "id": "23fa955d4fbcdf84",
    "ExecuteTime": {
     "end_time": "2024-06-07T21:14:23.850795Z",
     "start_time": "2024-06-07T21:14:21.967185Z"
    }
   },
   "id": "23fa955d4fbcdf84",
   "execution_count": 43
  },
  {
   "cell_type": "code",
   "outputs": [],
   "source": [
    "# Training the model\n",
    "def train(model, checkpoint, epochs=5):\n",
    "    criterion = nn.CrossEntropyLoss()\n",
    "    optimizer = optim.Adam(model.parameters(), lr=1e-6)\n",
    "    for epoch in range(epochs):\n",
    "        model.train()\n",
    "        with tqdm(train_loader) as pbar:\n",
    "            for images, labels in pbar:\n",
    "                outputs = model(images.to(device))\n",
    "                loss = criterion(outputs, labels.to(device))\n",
    "                optimizer.zero_grad()\n",
    "                loss.backward()\n",
    "                optimizer.step()\n",
    "            print(f'Epoch {epoch + 1}, Loss: {loss.item()}')\n",
    "            torch.save(model.state_dict(), checkpoint)"
   ],
   "metadata": {
    "id": "577581d35eb43ea0",
    "ExecuteTime": {
     "end_time": "2024-06-07T21:06:27.375856Z",
     "start_time": "2024-06-07T21:06:27.360712Z"
    }
   },
   "id": "577581d35eb43ea0",
   "execution_count": 29
  },
  {
   "cell_type": "code",
   "outputs": [
    {
     "name": "stderr",
     "output_type": "stream",
     "text": [
      "100%|██████████| 938/938 [00:14<00:00, 63.28it/s]\n"
     ]
    },
    {
     "name": "stdout",
     "output_type": "stream",
     "text": [
      "Epoch 1, Loss: 2.429697275161743\n"
     ]
    },
    {
     "name": "stderr",
     "output_type": "stream",
     "text": [
      "100%|██████████| 938/938 [00:14<00:00, 66.56it/s]\n"
     ]
    },
    {
     "name": "stdout",
     "output_type": "stream",
     "text": [
      "Epoch 2, Loss: 2.3305001258850098\n"
     ]
    },
    {
     "name": "stderr",
     "output_type": "stream",
     "text": [
      "100%|██████████| 938/938 [00:14<00:00, 64.72it/s]\n"
     ]
    },
    {
     "name": "stdout",
     "output_type": "stream",
     "text": [
      "Epoch 3, Loss: 2.2304418087005615\n"
     ]
    },
    {
     "name": "stderr",
     "output_type": "stream",
     "text": [
      "100%|██████████| 938/938 [00:14<00:00, 64.96it/s]\n"
     ]
    },
    {
     "name": "stdout",
     "output_type": "stream",
     "text": [
      "Epoch 4, Loss: 2.138221025466919\n"
     ]
    },
    {
     "name": "stderr",
     "output_type": "stream",
     "text": [
      "100%|██████████| 938/938 [00:14<00:00, 66.62it/s]"
     ]
    },
    {
     "name": "stdout",
     "output_type": "stream",
     "text": [
      "Epoch 5, Loss: 2.0530848503112793\n"
     ]
    },
    {
     "name": "stderr",
     "output_type": "stream",
     "text": [
      "\n"
     ]
    }
   ],
   "source": [
    "# Loading model from checkpoint\n",
    "# model = MLP(checkpoint='checkpoint/mlp_mnist_no_shuffle.pth')\n",
    "model = MLP().to(device)\n",
    "train(model, 'checkpoint/mlp_mnist_no_shuffle_low_lr.pth',epochs=5)"
   ],
   "metadata": {
    "id": "c00c6c82ba3d1d25",
    "ExecuteTime": {
     "end_time": "2024-06-07T21:15:37.111954Z",
     "start_time": "2024-06-07T21:14:25.094577Z"
    }
   },
   "id": "c00c6c82ba3d1d25",
   "execution_count": 44
  },
  {
   "cell_type": "code",
   "outputs": [
    {
     "name": "stdout",
     "output_type": "stream",
     "text": [
      "Accuracy: 74.17%\n",
      "[773, 1249, 677, 1036, 983, 460, 1050, 1441, 1273, 1058]\n",
      "10000\n"
     ]
    }
   ],
   "source": [
    "# Evaluating\n",
    "correct = 0\n",
    "total = 0\n",
    "predictions = [0] * 10\n",
    "model.eval()\n",
    "with torch.no_grad():\n",
    "    for images, labels in test_loader:\n",
    "        outputs = model(images.to(device))\n",
    "        labels=labels.to(device)\n",
    "        _, predicted = torch.max(outputs.data, 1)\n",
    "        total += labels.size(0)\n",
    "        for pred in predicted:\n",
    "            predictions[pred] += 1\n",
    "        correct += (predicted == labels).sum().item()\n",
    "\n",
    "print(f'Accuracy: {100 * correct / total}%')\n",
    "print(predictions)\n",
    "print(sum(predictions))"
   ],
   "metadata": {
    "id": "955bffa78a5796bf",
    "outputId": "7c4da272-41db-49a3-98ff-bd1db0cb76dd",
    "ExecuteTime": {
     "end_time": "2024-06-07T21:16:14.416861Z",
     "start_time": "2024-06-07T21:16:11.526089Z"
    }
   },
   "id": "955bffa78a5796bf",
   "execution_count": 45
  }
 ],
 "metadata": {
  "kernelspec": {
   "name": "python3",
   "language": "python",
   "display_name": "Python 3 (ipykernel)"
  },
  "language_info": {
   "codemirror_mode": {
    "name": "ipython",
    "version": 2
   },
   "file_extension": ".py",
   "mimetype": "text/x-python",
   "name": "python",
   "nbconvert_exporter": "python",
   "pygments_lexer": "ipython2",
   "version": "2.7.6"
  },
  "colab": {
   "provenance": [],
   "gpuType": "T4"
  },
  "accelerator": "GPU"
 },
 "nbformat": 4,
 "nbformat_minor": 5
}
