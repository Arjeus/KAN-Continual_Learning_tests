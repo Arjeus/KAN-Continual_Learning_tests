{
 "cells": [
  {
   "cell_type": "code",
   "execution_count": null,
   "id": "initial_id",
   "metadata": {
    "collapsed": true,
    "ExecuteTime": {
     "end_time": "2024-06-05T21:33:17.386809Z",
     "start_time": "2024-06-05T21:33:17.373196Z"
    },
    "id": "initial_id"
   },
   "outputs": [],
   "source": [
    "import torch\n",
    "import torch.nn as nn\n",
    "import torch.optim as optim\n",
    "from torch.utils.data import DataLoader\n",
    "from torchvision import datasets, transforms"
   ]
  },
  {
   "cell_type": "markdown",
   "source": [
    "# MLP\n",
    "In this notebook we demonstrate how the catastrophic forgetting heavily affect MLPs.\n",
    "We train an MLP on a sorted MNIST. In the evaluation phase, the MLPs respond with the last seen digits."
   ],
   "metadata": {
    "id": "Nrdnuy8ypl7a"
   },
   "id": "Nrdnuy8ypl7a"
  },
  {
   "cell_type": "code",
   "outputs": [],
   "source": [
    "class MLP(nn.Module):\n",
    "    def __init__(self, checkpoint: str | None = None):\n",
    "        super(MLP, self).__init__()\n",
    "        self.fc1 = nn.Linear(28 * 28, 128)\n",
    "        self.fc2 = nn.Linear(128, 64)\n",
    "        self.fc3 = nn.Linear(64, 10)\n",
    "        if checkpoint:\n",
    "            self.load_state_dict(torch.load(checkpoint))\n",
    "            self.eval()\n",
    "\n",
    "    def forward(self, x):\n",
    "        x = x.view(-1, 28 * 28)\n",
    "        x = torch.relu(self.fc1(x))\n",
    "        x = torch.relu(self.fc2(x))\n",
    "        x = self.fc3(x)\n",
    "        return x"
   ],
   "metadata": {
    "ExecuteTime": {
     "end_time": "2024-06-05T17:53:26.960716Z",
     "start_time": "2024-06-05T17:53:26.954273Z"
    },
    "id": "3b5566e8b305915b"
   },
   "id": "3b5566e8b305915b",
   "execution_count": null
  },
  {
   "cell_type": "code",
   "outputs": [],
   "source": [
    "transform = transforms.Compose([transforms.ToTensor(), transforms.Normalize((0.5,), (0.5,))])\n",
    "# Train set. Here we sort the MNIST by digits and disable data shuffling.\n",
    "train_dataset = datasets.MNIST(root='./data', train=True, download=True, transform=transform)\n",
    "sorted_indices = sorted(range(len(train_dataset)), key=lambda idx: train_dataset.targets[idx])\n",
    "train_dataset = torch.utils.data.Subset(train_dataset, sorted_indices)\n",
    "train_loader = DataLoader(train_dataset, batch_size=64, shuffle=False)\n",
    "# Test set\n",
    "test_dataset = datasets.MNIST(root='./data', train=False, download=True, transform=transform)\n",
    "test_loader = DataLoader(test_dataset, batch_size=64, shuffle=False)"
   ],
   "metadata": {
    "ExecuteTime": {
     "end_time": "2024-06-05T21:30:04.586913Z",
     "start_time": "2024-06-05T21:30:04.371892Z"
    },
    "id": "23fa955d4fbcdf84"
   },
   "id": "23fa955d4fbcdf84",
   "execution_count": null
  },
  {
   "cell_type": "code",
   "outputs": [],
   "source": [
    "# Training the model\n",
    "def train(model, checkpoint, epochs=5):\n",
    "    criterion = nn.CrossEntropyLoss()\n",
    "    optimizer = optim.Adam(model.parameters(), lr=0.001)\n",
    "    for epoch in range(epochs):\n",
    "        for images, labels in train_loader:\n",
    "            outputs = model(images)\n",
    "            loss = criterion(outputs, labels)\n",
    "            optimizer.zero_grad()\n",
    "            loss.backward()\n",
    "            optimizer.step()\n",
    "        print(f'Epoch {epoch + 1}, Loss: {loss.item()}')\n",
    "        torch.save(model.state_dict(), checkpoint)"
   ],
   "metadata": {
    "id": "577581d35eb43ea0"
   },
   "id": "577581d35eb43ea0",
   "execution_count": null
  },
  {
   "cell_type": "code",
   "outputs": [],
   "source": [
    "# Loading model from checkpoint\n",
    "model = MLP(checkpoint='checkpoint/mlp_mnist_no_shuffle.pth')"
   ],
   "metadata": {
    "ExecuteTime": {
     "end_time": "2024-06-05T17:53:50.992425Z",
     "start_time": "2024-06-05T17:53:50.976388Z"
    },
    "id": "c00c6c82ba3d1d25"
   },
   "id": "c00c6c82ba3d1d25",
   "execution_count": null
  },
  {
   "cell_type": "code",
   "outputs": [
    {
     "name": "stdout",
     "output_type": "stream",
     "text": [
      "Accuracy: 10.29%\n",
      "[0, 0, 1, 1, 0, 1, 466, 31, 1656, 7844]\n",
      "10000\n"
     ]
    }
   ],
   "source": [
    "# Evaluating\n",
    "correct = 0\n",
    "total = 0\n",
    "predictions = [0] * 10\n",
    "with torch.no_grad():\n",
    "    for images, labels in test_loader:\n",
    "        outputs = model(images)\n",
    "        _, predicted = torch.max(outputs.data, 1)\n",
    "        total += labels.size(0)\n",
    "        for pred in predicted:\n",
    "            predictions[pred] += 1\n",
    "        correct += (predicted == labels).sum().item()\n",
    "\n",
    "print(f'Accuracy: {100 * correct / total}%')\n",
    "print(predictions)\n",
    "print(sum(predictions))"
   ],
   "metadata": {
    "ExecuteTime": {
     "end_time": "2024-06-05T18:54:53.645301Z",
     "start_time": "2024-06-05T18:54:50.931161Z"
    },
    "id": "955bffa78a5796bf",
    "outputId": "7c4da272-41db-49a3-98ff-bd1db0cb76dd"
   },
   "id": "955bffa78a5796bf",
   "execution_count": null
  }
 ],
 "metadata": {
  "kernelspec": {
   "display_name": "Python 3",
   "name": "python3"
  },
  "language_info": {
   "codemirror_mode": {
    "name": "ipython",
    "version": 2
   },
   "file_extension": ".py",
   "mimetype": "text/x-python",
   "name": "python",
   "nbconvert_exporter": "python",
   "pygments_lexer": "ipython2",
   "version": "2.7.6"
  },
  "colab": {
   "provenance": [],
   "gpuType": "T4"
  },
  "accelerator": "GPU"
 },
 "nbformat": 4,
 "nbformat_minor": 5
}
